{
 "cells": [
  {
   "cell_type": "code",
   "execution_count": 2,
   "id": "06ca415a",
   "metadata": {
    "ExecuteTime": {
     "end_time": "2024-04-22T02:29:42.484882200Z",
     "start_time": "2024-04-22T02:29:41.403593200Z"
    }
   },
   "outputs": [
    {
     "data": {
      "text/html": [
       "        <script type=\"text/javascript\">\n",
       "        window.PlotlyConfig = {MathJaxConfig: 'local'};\n",
       "        if (window.MathJax) {MathJax.Hub.Config({SVG: {font: \"STIX-Web\"}});}\n",
       "        if (typeof require !== 'undefined') {\n",
       "        require.undef(\"plotly\");\n",
       "        requirejs.config({\n",
       "            paths: {\n",
       "                'plotly': ['https://cdn.plot.ly/plotly-2.11.1.min']\n",
       "            }\n",
       "        });\n",
       "        require(['plotly'], function(Plotly) {\n",
       "            window._Plotly = Plotly;\n",
       "        });\n",
       "        }\n",
       "        </script>\n",
       "        "
      ]
     },
     "metadata": {},
     "output_type": "display_data"
    },
    {
     "data": {
      "text/html": [
       "        <script type=\"text/javascript\">\n",
       "        window.PlotlyConfig = {MathJaxConfig: 'local'};\n",
       "        if (window.MathJax) {MathJax.Hub.Config({SVG: {font: \"STIX-Web\"}});}\n",
       "        if (typeof require !== 'undefined') {\n",
       "        require.undef(\"plotly\");\n",
       "        requirejs.config({\n",
       "            paths: {\n",
       "                'plotly': ['https://cdn.plot.ly/plotly-2.11.1.min']\n",
       "            }\n",
       "        });\n",
       "        require(['plotly'], function(Plotly) {\n",
       "            window._Plotly = Plotly;\n",
       "        });\n",
       "        }\n",
       "        </script>\n",
       "        "
      ]
     },
     "metadata": {},
     "output_type": "display_data"
    }
   ],
   "source": [
    "import pandas as pd\n",
    "import numpy as np\n",
    "import matplotlib.pyplot as plt\n",
    "import seaborn as sns\n",
    "import warnings\n",
    "warnings.filterwarnings(\"ignore\")\n",
    "from sklearn.cluster import KMeans\n",
    "%matplotlib inline\n",
    "import re\n",
    "\n",
    "\n",
    "import plotly as py\n",
    "import cufflinks as cf\n",
    "import plotly.express as px\n",
    "%matplotlib inline\n",
    "\n",
    "# Make Plotly work in your Jupyter Notebook\n",
    "from plotly.offline import download_plotlyjs, init_notebook_mode, plot, iplot\n",
    "init_notebook_mode(connected=True)\n",
    "# Use Plotly locally\n",
    "cf.go_offline()\n",
    "\n",
    "\n",
    "import matplotlib as mpl\n",
    "from matplotlib.ticker import FuncFormatter\n",
    "\n",
    "import calendar\n",
    "import plotly.express as px\n",
    "from plotly.subplots import make_subplots\n",
    "import plotly.figure_factory as ff\n",
    "import plotly.offline as offline\n",
    "import plotly.graph_objs as go\n",
    "#offline.init_notebook_mode(connected = True)\n",
    "\n",
    "\n",
    "import dash\n",
    "from dash import dcc, html\n",
    "from sklearn.cluster import KMeans\n",
    "from scipy import stats\n",
    "\n",
    "import warnings\n",
    "warnings.filterwarnings('ignore')\n"
   ]
  },
  {
   "cell_type": "code",
   "execution_count": 42,
   "id": "30b4b138",
   "metadata": {
    "ExecuteTime": {
     "end_time": "2024-04-22T02:29:57.883593Z",
     "start_time": "2024-04-22T02:29:42.485884300Z"
    }
   },
   "outputs": [],
   "source": [
    "df = pd.read_csv('filtered_data.csv')"
   ]
  },
  {
   "cell_type": "code",
   "execution_count": 43,
   "id": "74adcf42",
   "metadata": {
    "ExecuteTime": {
     "end_time": "2024-04-22T02:29:57.905594500Z",
     "start_time": "2024-04-22T02:29:57.884593300Z"
    }
   },
   "outputs": [],
   "source": [
    "# df.head()"
   ]
  },
  {
   "cell_type": "code",
   "execution_count": 44,
   "id": "f41d9f2a",
   "metadata": {
    "ExecuteTime": {
     "end_time": "2024-04-22T02:29:57.928112300Z",
     "start_time": "2024-04-22T02:29:57.902594Z"
    }
   },
   "outputs": [],
   "source": [
    "# Selecting a random sample of 10000 rows\n",
    "#df = df.sample(n=10000, random_state=42)"
   ]
  },
  {
   "cell_type": "code",
   "execution_count": 45,
   "id": "4546db1d",
   "metadata": {
    "ExecuteTime": {
     "end_time": "2024-04-22T02:29:57.933113200Z",
     "start_time": "2024-04-22T02:29:57.915601400Z"
    }
   },
   "outputs": [],
   "source": [
    "# df.to_csv('samplerecord.csv')"
   ]
  },
  {
   "cell_type": "code",
   "execution_count": 46,
   "id": "a9413391",
   "metadata": {
    "ExecuteTime": {
     "end_time": "2024-04-22T02:29:57.952112800Z",
     "start_time": "2024-04-22T02:29:57.931114100Z"
    }
   },
   "outputs": [],
   "source": [
    "# df.info()"
   ]
  },
  {
   "cell_type": "code",
   "execution_count": 47,
   "id": "00a90c28",
   "metadata": {
    "ExecuteTime": {
     "end_time": "2024-04-22T02:29:57.979114Z",
     "start_time": "2024-04-22T02:29:57.947113100Z"
    }
   },
   "outputs": [],
   "source": [
    "# Summary statistics for numerical variables\n",
    "# df.describe().T"
   ]
  },
  {
   "cell_type": "code",
   "execution_count": 48,
   "id": "aa8a50ce",
   "metadata": {
    "ExecuteTime": {
     "end_time": "2024-04-22T02:29:57.982112200Z",
     "start_time": "2024-04-22T02:29:57.963113600Z"
    }
   },
   "outputs": [],
   "source": [
    "# Summary statistics for categorical variables\n",
    "# df.describe(include='object').T"
   ]
  },
  {
   "cell_type": "code",
   "execution_count": 49,
   "id": "06b69c34",
   "metadata": {
    "ExecuteTime": {
     "end_time": "2024-04-22T02:29:58.000112800Z",
     "start_time": "2024-04-22T02:29:57.978115600Z"
    }
   },
   "outputs": [],
   "source": [
    "# df.shape"
   ]
  },
  {
   "cell_type": "markdown",
   "id": "708f7521",
   "metadata": {},
   "source": [
    "## Data cleaning and transformation"
   ]
  },
  {
   "cell_type": "markdown",
   "id": "95fc1439",
   "metadata": {},
   "source": [
    "This step encompasses a comprehensive cleaning and transformation process to refine the dataset. It includes addressing missing values, eliminating duplicate entries, correcting anomalies in product codes and descriptions, and other necessary adjustments to prepare the data for in-depth analysis and modeling."
   ]
  },
  {
   "cell_type": "code",
   "execution_count": 50,
   "id": "cf0e4052",
   "metadata": {
    "ExecuteTime": {
     "end_time": "2024-04-22T02:29:58.031358500Z",
     "start_time": "2024-04-22T02:29:58.001112600Z"
    }
   },
   "outputs": [],
   "source": [
    "'''\n",
    "Function returns dataframe of column name and their unique value list.\n",
    "Parameters to passed dataframe and number of count which will limit the count of number of unique value in column.\n",
    "'''\n",
    "\n",
    "def get_unique(df,ncount):\n",
    "    # Create a DataFrame to store unique values\n",
    "    unique_values_df = pd.DataFrame(columns=['Column Name', 'Unique Values' ])\n",
    "    \n",
    "    # Iterate over columns add check unique values\n",
    "    for col in df.columns:\n",
    "        unique_values = df[col].unique()\n",
    "        \n",
    "        # Append to DataFrame if the number of unique values is less than count given\n",
    "        if len(unique_values) <= ncount:\n",
    "            unique_values_df = unique_values_df.append({'Column Name': col, 'Unique Values': unique_values}, \n",
    "                                                       ignore_index=True)\n",
    "    return unique_values_df\n",
    "\n",
    "\n",
    "'''\n",
    "Function to get missing values count and duplicate entry count.\n",
    "Accepts dataframe as parameter\n",
    "'''\n",
    "\n",
    "def summary_table(df):\n",
    "\n",
    "    summary = pd.DataFrame(df.dtypes,columns=['dtypes'])\n",
    "    summary = summary.reset_index()\n",
    "    summary['Name'] = summary['index']\n",
    "    summary = summary[['Name','dtypes']]\n",
    "    summary['Missing'] = df.isnull().sum().values    \n",
    "    summary['Uniques'] = df.nunique().values\n",
    "    return summary.sort_values(by='Uniques')\n",
    "\n",
    "\n",
    "'''\n",
    "Function to get basic EDA.\n",
    "Accepts dataframe as parameter\n",
    "'''\n",
    "\n",
    "def basic_EDA(df):\n",
    "    size = df.shape\n",
    "    sum_duplicates = df.duplicated().sum()\n",
    "    sum_null = df.isnull().sum().sum()\n",
    "    is_NaN = df. isnull()\n",
    "    row_has_NaN = is_NaN. any(axis=1)\n",
    "    rows_with_NaN = df[row_has_NaN]\n",
    "    count_NaN_rows = rows_with_NaN.shape\n",
    "    return print(\"Number of Samples: %d\\nNumber of Features: %d\\nDuplicated Entries: %d\\nNull Entries: %d\\nNumber of Rows with Null Entries: %d %.1f%%\" %(size[0],size[1], sum_duplicates, sum_null,count_NaN_rows[0],(count_NaN_rows[0] / df.shape[0])*100))"
   ]
  },
  {
   "cell_type": "code",
   "execution_count": 51,
   "id": "52b6e1d0",
   "metadata": {
    "ExecuteTime": {
     "end_time": "2024-04-22T02:30:10.841754Z",
     "start_time": "2024-04-22T02:29:58.010115800Z"
    }
   },
   "outputs": [],
   "source": [
    "#basic_EDA(df)"
   ]
  },
  {
   "cell_type": "code",
   "execution_count": 52,
   "id": "c949ef46",
   "metadata": {
    "ExecuteTime": {
     "end_time": "2024-04-22T02:30:17.375817900Z",
     "start_time": "2024-04-22T02:30:10.841754Z"
    }
   },
   "outputs": [],
   "source": [
    "#summary_table(df)"
   ]
  },
  {
   "cell_type": "code",
   "execution_count": 53,
   "id": "d12b9630",
   "metadata": {
    "ExecuteTime": {
     "end_time": "2024-04-22T02:30:17.399815700Z",
     "start_time": "2024-04-22T02:30:17.374818600Z"
    }
   },
   "outputs": [],
   "source": [
    "# uniquedf = get_unique(df,40)"
   ]
  },
  {
   "cell_type": "code",
   "execution_count": 54,
   "id": "4f556bfb",
   "metadata": {
    "ExecuteTime": {
     "end_time": "2024-04-22T02:30:17.426822700Z",
     "start_time": "2024-04-22T02:30:17.388815700Z"
    }
   },
   "outputs": [],
   "source": [
    "# uniquedf"
   ]
  },
  {
   "cell_type": "code",
   "execution_count": 55,
   "id": "ae06bd67",
   "metadata": {
    "ExecuteTime": {
     "end_time": "2024-04-22T02:30:17.479340900Z",
     "start_time": "2024-04-22T02:30:17.404819200Z"
    }
   },
   "outputs": [],
   "source": [
    "# df['event_type'].value_counts()"
   ]
  },
  {
   "cell_type": "markdown",
   "id": "a2b62b0d",
   "metadata": {},
   "source": [
    "- Dropping Null Values as mostly we have null values in Customer Id and we need that information.\n",
    "- There are duplicate entry as well so will be dropping them also."
   ]
  },
  {
   "cell_type": "code",
   "execution_count": 56,
   "id": "1f051c5c",
   "metadata": {
    "ExecuteTime": {
     "end_time": "2024-04-22T02:30:17.504340900Z",
     "start_time": "2024-04-22T02:30:17.420817900Z"
    }
   },
   "outputs": [],
   "source": [
    "# df.dropna(inplace=True)"
   ]
  },
  {
   "cell_type": "code",
   "execution_count": 57,
   "id": "38691f4b",
   "metadata": {
    "ExecuteTime": {
     "end_time": "2024-04-22T02:30:17.510351300Z",
     "start_time": "2024-04-22T02:30:17.437341600Z"
    }
   },
   "outputs": [],
   "source": [
    "# df.drop_duplicates(inplace=True)"
   ]
  },
  {
   "cell_type": "code",
   "execution_count": 58,
   "id": "f40e0f8e",
   "metadata": {
    "ExecuteTime": {
     "end_time": "2024-04-22T02:30:17.512340600Z",
     "start_time": "2024-04-22T02:30:17.453340600Z"
    }
   },
   "outputs": [],
   "source": [
    "# basic_EDA(df)"
   ]
  },
  {
   "cell_type": "code",
   "execution_count": 59,
   "id": "4fbc8fb8",
   "metadata": {
    "ExecuteTime": {
     "end_time": "2024-04-22T02:30:17.530343500Z",
     "start_time": "2024-04-22T02:30:17.468341800Z"
    }
   },
   "outputs": [],
   "source": [
    "# df.head()"
   ]
  },
  {
   "cell_type": "code",
   "execution_count": 60,
   "id": "a9819408",
   "metadata": {
    "ExecuteTime": {
     "end_time": "2024-04-22T02:30:22.325690200Z",
     "start_time": "2024-04-22T02:30:17.483340300Z"
    }
   },
   "outputs": [],
   "source": [
    "df['date'] = df['event_time'].apply(lambda x: x.split()[0])\n",
    "df['date']=pd.to_datetime(df['date'],format='%Y-%m-%d')"
   ]
  },
  {
   "cell_type": "code",
   "execution_count": 61,
   "id": "1149aebf",
   "metadata": {
    "ExecuteTime": {
     "end_time": "2024-04-22T02:30:24.889267900Z",
     "start_time": "2024-04-22T02:30:22.326690600Z"
    }
   },
   "outputs": [],
   "source": [
    "df['user_purchase'] = df['event_type'].apply(lambda x: 1 if x=='purchase' else 0)"
   ]
  },
  {
   "cell_type": "code",
   "execution_count": 62,
   "id": "42b40ab26fedebe5",
   "metadata": {
    "ExecuteTime": {
     "end_time": "2024-04-22T02:30:25.526369700Z",
     "start_time": "2024-04-22T02:30:24.890267300Z"
    }
   },
   "outputs": [
    {
     "data": {
      "image/png": "[encoded data removed]",
      "text/plain": [
       "<Figure size 432x288 with 1 Axes>"
      ]
     },
     "metadata": {
      "needs_background": "light"
     },
     "output_type": "display_data"
    },
    {
     "name": "stdout",
     "output_type": "stream",
     "text": [
      "view        10373158\n",
      "cart         1335679\n",
      "purchase      625885\n",
      "Name: event_type, dtype: int64\n"
     ]
    }
   ],
   "source": [
    "event_counts = df['event_type'].value_counts()\n",
    "plt.bar(event_counts.index, event_counts.values, color=['blue', 'orange', 'green'])\n",
    "plt.xlabel('Event Type')\n",
    "plt.ylabel('Count (Millions)')\n",
    "plt.title('Number of Items Viewed, Added to Cart, and Purchased')\n",
    "\n",
    "# Format y-axis ticks to display in hundred thousands\n",
    "formatter = FuncFormatter(lambda x, _: '{:,.0f}'.format(x/1000000))\n",
    "plt.gca().yaxis.set_major_formatter(formatter)\n",
    "\n",
    "plt.show()\n",
    "\n",
    "print(event_counts)"
   ]
  },
  {
   "cell_type": "code",
   "execution_count": 63,
   "id": "4a197d29",
   "metadata": {
    "ExecuteTime": {
     "end_time": "2024-04-22T02:30:25.979051700Z",
     "start_time": "2024-04-22T02:30:25.521363400Z"
    }
   },
   "outputs": [],
   "source": [
    "# Updated based on above analysis\n",
    "\n",
    "df['event_weightage'] = df['event_type'].map({'view':1,'cart':8,'purchase':16})"
   ]
  },
  {
   "cell_type": "code",
   "execution_count": 64,
   "id": "06d1206d",
   "metadata": {
    "ExecuteTime": {
     "end_time": "2024-04-22T02:30:38.795529400Z",
     "start_time": "2024-04-22T02:30:25.983039600Z"
    }
   },
   "outputs": [],
   "source": [
    "df['product_category'] =df['category_code'].astype(str).str.split('.')"
   ]
  },
  {
   "cell_type": "code",
   "execution_count": 65,
   "id": "eeec347b",
   "metadata": {
    "ExecuteTime": {
     "end_time": "2024-04-22T02:30:40.918648500Z",
     "start_time": "2024-04-22T02:30:38.796531200Z"
    }
   },
   "outputs": [],
   "source": [
    "df['product_category'] = df['product_category'].apply(lambda x: x[0])"
   ]
  },
  {
   "cell_type": "code",
   "execution_count": 66,
   "id": "2e958ce2",
   "metadata": {
    "ExecuteTime": {
     "end_time": "2024-04-22T02:30:41.717176300Z",
     "start_time": "2024-04-22T02:30:41.703183500Z"
    }
   },
   "outputs": [
    {
     "data": {
      "text/plain": [
       "electronics     7291507\n",
       "appliances      2367129\n",
       "computers       1084502\n",
       "apparel          588212\n",
       "auto             246416\n",
       "furniture        230341\n",
       "construction     221849\n",
       "kids             154512\n",
       "accessories       97193\n",
       "sport             40608\n",
       "medicine           6743\n",
       "country_yard       3275\n",
       "stationery         2435\n",
       "Name: product_category, dtype: int64"
      ]
     },
     "execution_count": 66,
     "metadata": {},
     "output_type": "execute_result"
    }
   ],
   "source": [
    "df['product_category'].value_counts()"
   ]
  },
  {
   "cell_type": "code",
   "execution_count": 67,
   "id": "b64649e1",
   "metadata": {
    "ExecuteTime": {
     "end_time": "2024-04-22T02:30:41.741186900Z",
     "start_time": "2024-04-22T02:30:41.711178100Z"
    }
   },
   "outputs": [],
   "source": [
    "# df.columns"
   ]
  },
  {
   "cell_type": "code",
   "execution_count": 68,
   "id": "bcec1534",
   "metadata": {
    "ExecuteTime": {
     "end_time": "2024-04-22T02:30:41.980456800Z",
     "start_time": "2024-04-22T02:30:41.728177400Z"
    }
   },
   "outputs": [
    {
     "data": {
      "image/png": "[encoded data removed]",
      "text/plain": [
       "<Figure size 432x288 with 1 Axes>"
      ]
     },
     "metadata": {
      "needs_background": "light"
     },
     "output_type": "display_data"
    }
   ],
   "source": [
    "plt.hist(df['price'], bins=5, color='skyblue', edgecolor='black')\n",
    "\n",
    "# Adding labels and title\n",
    "plt.xlabel('Value')\n",
    "plt.ylabel('Frequency')\n",
    "plt.title('Histogram')\n",
    "\n",
    "# Show plot\n",
    "plt.show()"
   ]
  },
  {
   "cell_type": "code",
   "execution_count": 69,
   "id": "fca1394c",
   "metadata": {
    "ExecuteTime": {
     "end_time": "2024-04-22T02:30:42.045457500Z",
     "start_time": "2024-04-22T02:30:41.980456800Z"
    }
   },
   "outputs": [
    {
     "name": "stdout",
     "output_type": "stream",
     "text": [
      "<class 'pandas.core.frame.DataFrame'>\n",
      "RangeIndex: 12334722 entries, 0 to 12334721\n",
      "Data columns (total 13 columns):\n",
      " #   Column            Dtype         \n",
      "---  ------            -----         \n",
      " 0   event_time        object        \n",
      " 1   event_type        object        \n",
      " 2   product_id        int64         \n",
      " 3   category_id       int64         \n",
      " 4   category_code     object        \n",
      " 5   brand             object        \n",
      " 6   price             float64       \n",
      " 7   user_id           int64         \n",
      " 8   user_session      object        \n",
      " 9   date              datetime64[ns]\n",
      " 10  user_purchase     int64         \n",
      " 11  event_weightage   int64         \n",
      " 12  product_category  object        \n",
      "dtypes: datetime64[ns](1), float64(1), int64(5), object(6)\n",
      "memory usage: 1.2+ GB\n"
     ]
    }
   ],
   "source": [
    "df.info()"
   ]
  },
  {
   "cell_type": "markdown",
   "id": "9bcdd1da",
   "metadata": {},
   "source": [
    "categorical or object type - event_time, event_type,category_code,brand, user_session, date, product_category\n",
    "\n",
    "converting event_type, brand,user_session, product_category to integers \n",
    "\n",
    "for now dropping remaining\n",
    "\n",
    "# Customer Segmentation # "
   ]
  },
  {
   "cell_type": "code",
   "execution_count": 70,
   "id": "eff56e35b8d4ec5f",
   "metadata": {
    "ExecuteTime": {
     "end_time": "2024-04-22T02:30:42.047965800Z",
     "start_time": "2024-04-22T02:30:41.996454900Z"
    }
   },
   "outputs": [
    {
     "data": {
      "text/html": [
       "<div>\n",
       "<style scoped>\n",
       "    .dataframe tbody tr th:only-of-type {\n",
       "        vertical-align: middle;\n",
       "    }\n",
       "\n",
       "    .dataframe tbody tr th {\n",
       "        vertical-align: top;\n",
       "    }\n",
       "\n",
       "    .dataframe thead th {\n",
       "        text-align: right;\n",
       "    }\n",
       "</style>\n",
       "<table border=\"1\" class=\"dataframe\">\n",
       "  <thead>\n",
       "    <tr style=\"text-align: right;\">\n",
       "      <th></th>\n",
       "      <th>event_time</th>\n",
       "      <th>event_type</th>\n",
       "      <th>product_id</th>\n",
       "      <th>category_id</th>\n",
       "      <th>category_code</th>\n",
       "      <th>brand</th>\n",
       "      <th>price</th>\n",
       "      <th>user_id</th>\n",
       "      <th>user_session</th>\n",
       "      <th>date</th>\n",
       "      <th>user_purchase</th>\n",
       "      <th>event_weightage</th>\n",
       "      <th>product_category</th>\n",
       "    </tr>\n",
       "  </thead>\n",
       "  <tbody>\n",
       "    <tr>\n",
       "      <th>0</th>\n",
       "      <td>2019-11-01 00:00:10 UTC</td>\n",
       "      <td>view</td>\n",
       "      <td>1307350</td>\n",
       "      <td>2053013558920217191</td>\n",
       "      <td>computers.notebook</td>\n",
       "      <td>acer</td>\n",
       "      <td>514.79</td>\n",
       "      <td>513741043</td>\n",
       "      <td>82f7f972-346a-41f1-ae58-3ccf1edf6726</td>\n",
       "      <td>2019-11-01</td>\n",
       "      <td>0</td>\n",
       "      <td>1</td>\n",
       "      <td>computers</td>\n",
       "    </tr>\n",
       "    <tr>\n",
       "      <th>1</th>\n",
       "      <td>2019-11-01 00:00:14 UTC</td>\n",
       "      <td>view</td>\n",
       "      <td>1002544</td>\n",
       "      <td>2053013555631882655</td>\n",
       "      <td>electronics.smartphone</td>\n",
       "      <td>apple</td>\n",
       "      <td>458.28</td>\n",
       "      <td>549256216</td>\n",
       "      <td>dcbdc6e4-cd49-4ee8-95c5-e85f3c618fa1</td>\n",
       "      <td>2019-11-01</td>\n",
       "      <td>0</td>\n",
       "      <td>1</td>\n",
       "      <td>electronics</td>\n",
       "    </tr>\n",
       "    <tr>\n",
       "      <th>2</th>\n",
       "      <td>2019-11-01 00:00:14 UTC</td>\n",
       "      <td>cart</td>\n",
       "      <td>1005014</td>\n",
       "      <td>2053013555631882655</td>\n",
       "      <td>electronics.smartphone</td>\n",
       "      <td>samsung</td>\n",
       "      <td>503.09</td>\n",
       "      <td>533326659</td>\n",
       "      <td>6b928be2-2bce-4640-8296-0efdf2fda22a</td>\n",
       "      <td>2019-11-01</td>\n",
       "      <td>0</td>\n",
       "      <td>8</td>\n",
       "      <td>electronics</td>\n",
       "    </tr>\n",
       "    <tr>\n",
       "      <th>3</th>\n",
       "      <td>2019-11-01 00:00:17 UTC</td>\n",
       "      <td>view</td>\n",
       "      <td>1005161</td>\n",
       "      <td>2053013555631882655</td>\n",
       "      <td>electronics.smartphone</td>\n",
       "      <td>xiaomi</td>\n",
       "      <td>211.92</td>\n",
       "      <td>513351129</td>\n",
       "      <td>e6b7ce9b-1938-4e20-976c-8b4163aea11d</td>\n",
       "      <td>2019-11-01</td>\n",
       "      <td>0</td>\n",
       "      <td>1</td>\n",
       "      <td>electronics</td>\n",
       "    </tr>\n",
       "    <tr>\n",
       "      <th>4</th>\n",
       "      <td>2019-11-01 00:00:28 UTC</td>\n",
       "      <td>view</td>\n",
       "      <td>4804295</td>\n",
       "      <td>2053013554658804075</td>\n",
       "      <td>electronics.audio.headphone</td>\n",
       "      <td>xiaomi</td>\n",
       "      <td>22.80</td>\n",
       "      <td>543653226</td>\n",
       "      <td>ab310b47-1eb2-45f8-8e5b-21ab2010925a</td>\n",
       "      <td>2019-11-01</td>\n",
       "      <td>0</td>\n",
       "      <td>1</td>\n",
       "      <td>electronics</td>\n",
       "    </tr>\n",
       "  </tbody>\n",
       "</table>\n",
       "</div>"
      ],
      "text/plain": [
       "                event_time event_type  product_id          category_id  \\\n",
       "0  2019-11-01 00:00:10 UTC       view     1307350  2053013558920217191   \n",
       "1  2019-11-01 00:00:14 UTC       view     1002544  2053013555631882655   \n",
       "2  2019-11-01 00:00:14 UTC       cart     1005014  2053013555631882655   \n",
       "3  2019-11-01 00:00:17 UTC       view     1005161  2053013555631882655   \n",
       "4  2019-11-01 00:00:28 UTC       view     4804295  2053013554658804075   \n",
       "\n",
       "                 category_code    brand   price    user_id  \\\n",
       "0           computers.notebook     acer  514.79  513741043   \n",
       "1       electronics.smartphone    apple  458.28  549256216   \n",
       "2       electronics.smartphone  samsung  503.09  533326659   \n",
       "3       electronics.smartphone   xiaomi  211.92  513351129   \n",
       "4  electronics.audio.headphone   xiaomi   22.80  543653226   \n",
       "\n",
       "                           user_session       date  user_purchase  \\\n",
       "0  82f7f972-346a-41f1-ae58-3ccf1edf6726 2019-11-01              0   \n",
       "1  dcbdc6e4-cd49-4ee8-95c5-e85f3c618fa1 2019-11-01              0   \n",
       "2  6b928be2-2bce-4640-8296-0efdf2fda22a 2019-11-01              0   \n",
       "3  e6b7ce9b-1938-4e20-976c-8b4163aea11d 2019-11-01              0   \n",
       "4  ab310b47-1eb2-45f8-8e5b-21ab2010925a 2019-11-01              0   \n",
       "\n",
       "   event_weightage product_category  \n",
       "0                1        computers  \n",
       "1                1      electronics  \n",
       "2                8      electronics  \n",
       "3                1      electronics  \n",
       "4                1      electronics  "
      ]
     },
     "execution_count": 70,
     "metadata": {},
     "output_type": "execute_result"
    }
   ],
   "source": [
    "df.head()"
   ]
  },
  {
   "cell_type": "code",
   "execution_count": 71,
   "id": "438e7d9c15e36490",
   "metadata": {
    "ExecuteTime": {
     "end_time": "2024-04-22T02:30:44.095916Z",
     "start_time": "2024-04-22T02:30:42.014455200Z"
    }
   },
   "outputs": [
    {
     "data": {
      "text/html": [
       "<div>\n",
       "<style scoped>\n",
       "    .dataframe tbody tr th:only-of-type {\n",
       "        vertical-align: middle;\n",
       "    }\n",
       "\n",
       "    .dataframe tbody tr th {\n",
       "        vertical-align: top;\n",
       "    }\n",
       "\n",
       "    .dataframe thead th {\n",
       "        text-align: right;\n",
       "    }\n",
       "</style>\n",
       "<table border=\"1\" class=\"dataframe\">\n",
       "  <thead>\n",
       "    <tr style=\"text-align: right;\">\n",
       "      <th></th>\n",
       "      <th>view</th>\n",
       "      <th>cart</th>\n",
       "      <th>purchase</th>\n",
       "      <th>CV_score</th>\n",
       "      <th>PC_score</th>\n",
       "    </tr>\n",
       "    <tr>\n",
       "      <th>user_id</th>\n",
       "      <th></th>\n",
       "      <th></th>\n",
       "      <th></th>\n",
       "      <th></th>\n",
       "      <th></th>\n",
       "    </tr>\n",
       "  </thead>\n",
       "  <tbody>\n",
       "    <tr>\n",
       "      <th>225644257</th>\n",
       "      <td>8</td>\n",
       "      <td>2</td>\n",
       "      <td>1</td>\n",
       "      <td>0.250000</td>\n",
       "      <td>0.238561</td>\n",
       "    </tr>\n",
       "    <tr>\n",
       "      <th>256164170</th>\n",
       "      <td>4</td>\n",
       "      <td>1</td>\n",
       "      <td>1</td>\n",
       "      <td>0.174743</td>\n",
       "      <td>0.301030</td>\n",
       "    </tr>\n",
       "    <tr>\n",
       "      <th>296197073</th>\n",
       "      <td>58</td>\n",
       "      <td>6</td>\n",
       "      <td>1</td>\n",
       "      <td>0.186846</td>\n",
       "      <td>0.140850</td>\n",
       "    </tr>\n",
       "    <tr>\n",
       "      <th>299358698</th>\n",
       "      <td>48</td>\n",
       "      <td>1</td>\n",
       "      <td>1</td>\n",
       "      <td>0.035212</td>\n",
       "      <td>0.301030</td>\n",
       "    </tr>\n",
       "    <tr>\n",
       "      <th>304707635</th>\n",
       "      <td>2</td>\n",
       "      <td>2</td>\n",
       "      <td>1</td>\n",
       "      <td>0.602060</td>\n",
       "      <td>0.238561</td>\n",
       "    </tr>\n",
       "    <tr>\n",
       "      <th>307138432</th>\n",
       "      <td>4</td>\n",
       "      <td>1</td>\n",
       "      <td>1</td>\n",
       "      <td>0.174743</td>\n",
       "      <td>0.301030</td>\n",
       "    </tr>\n",
       "    <tr>\n",
       "      <th>308228668</th>\n",
       "      <td>29</td>\n",
       "      <td>4</td>\n",
       "      <td>1</td>\n",
       "      <td>0.209450</td>\n",
       "      <td>0.174743</td>\n",
       "    </tr>\n",
       "    <tr>\n",
       "      <th>310402868</th>\n",
       "      <td>6</td>\n",
       "      <td>2</td>\n",
       "      <td>1</td>\n",
       "      <td>0.301030</td>\n",
       "      <td>0.238561</td>\n",
       "    </tr>\n",
       "    <tr>\n",
       "      <th>315835135</th>\n",
       "      <td>79</td>\n",
       "      <td>4</td>\n",
       "      <td>1</td>\n",
       "      <td>0.097169</td>\n",
       "      <td>0.174743</td>\n",
       "    </tr>\n",
       "    <tr>\n",
       "      <th>315835876</th>\n",
       "      <td>3</td>\n",
       "      <td>1</td>\n",
       "      <td>1</td>\n",
       "      <td>0.200687</td>\n",
       "      <td>0.301030</td>\n",
       "    </tr>\n",
       "  </tbody>\n",
       "</table>\n",
       "</div>"
      ],
      "text/plain": [
       "           view  cart  purchase  CV_score  PC_score\n",
       "user_id                                            \n",
       "225644257     8     2         1  0.250000  0.238561\n",
       "256164170     4     1         1  0.174743  0.301030\n",
       "296197073    58     6         1  0.186846  0.140850\n",
       "299358698    48     1         1  0.035212  0.301030\n",
       "304707635     2     2         1  0.602060  0.238561\n",
       "307138432     4     1         1  0.174743  0.301030\n",
       "308228668    29     4         1  0.209450  0.174743\n",
       "310402868     6     2         1  0.301030  0.238561\n",
       "315835135    79     4         1  0.097169  0.174743\n",
       "315835876     3     1         1  0.200687  0.301030"
      ]
     },
     "execution_count": 71,
     "metadata": {},
     "output_type": "execute_result"
    }
   ],
   "source": [
    "# Assuming df contains your dataset with column 'event_type'\n",
    "\n",
    "# Convert 'event_type' to categorical type to ensure proper ordering\n",
    "df['event_type'] = pd.Categorical(df['event_type'], categories=['view', 'cart', 'purchase'], ordered=True)\n",
    "\n",
    "# Calculate the counts of each event type for each user\n",
    "user_activity = df.groupby('user_id')['event_type'].value_counts().unstack(fill_value=0)\n",
    "\n",
    "# Calculate the ratio of views to cart to purchases\n",
    "user_activity['CV_score'] = user_activity['cart'] / (user_activity['view']) * np.log10(user_activity['view'] + user_activity['cart'])\n",
    "user_activity['PC_score'] = user_activity['purchase'] / (user_activity['cart']) * np.log10(user_activity['purchase'] + user_activity['cart'])\n",
    "\n",
    "\n",
    "# View the resulting dataframe with the score\n",
    "# print(user_activity[['view', 'cart', 'purchase', 'CV_ratio','VP_ratio', 'log_scale', 'CV_score', 'VP_score']])\n",
    "user_activity.head(10)"
   ]
  },
  {
   "cell_type": "code",
   "execution_count": 72,
   "id": "a6ef0d3e96547498",
   "metadata": {
    "ExecuteTime": {
     "end_time": "2024-04-22T02:30:44.141923Z",
     "start_time": "2024-04-22T02:30:44.100914800Z"
    }
   },
   "outputs": [],
   "source": [
    "\n",
    "# Calculate z-scores for 'CV_score' and 'VP_score'\n",
    "z_scores = stats.zscore(user_activity[['CV_score', 'PC_score']])\n",
    "\n",
    "# Define a threshold for outlier detection\n",
    "threshold = 3\n",
    "\n",
    "# Filter out rows where any z-score exceeds the threshold\n",
    "user_activity_no_outliers = user_activity[(np.abs(z_scores) < threshold).all(axis=1)]\n"
   ]
  },
  {
   "cell_type": "code",
   "execution_count": 73,
   "id": "f15e895d1a359469",
   "metadata": {
    "ExecuteTime": {
     "end_time": "2024-04-22T02:30:44.412473600Z",
     "start_time": "2024-04-22T02:30:44.127916600Z"
    }
   },
   "outputs": [],
   "source": [
    "n_clusters = 3\n",
    "X_no_outliers = user_activity_no_outliers[['CV_score', 'PC_score']]\n",
    "kmeans_no_outliers = KMeans(n_clusters=n_clusters, random_state=42)\n",
    "user_activity_no_outliers['cluster'] = kmeans_no_outliers.fit_predict(X_no_outliers)"
   ]
  },
  {
   "cell_type": "code",
   "execution_count": 74,
   "id": "4117dcc283d9fd30",
   "metadata": {
    "ExecuteTime": {
     "end_time": "2024-04-22T02:33:09.256991300Z",
     "start_time": "2024-04-22T02:33:05.417882800Z"
    }
   },
   "outputs": [
    {
     "data": {
      "image/png": "[encoded data removed]",
      "text/plain": [
       "<Figure size 432x288 with 1 Axes>"
      ]
     },
     "metadata": {
      "needs_background": "light"
     },
     "output_type": "display_data"
    },
    {
     "name": "stdout",
     "output_type": "stream",
     "text": [
      "1    206533\n",
      "2     54629\n",
      "0     35173\n",
      "Name: cluster, dtype: int64\n"
     ]
    }
   ],
   "source": [
    "# Visualize the clusters\n",
    "plt.scatter(X_no_outliers['CV_score'], X_no_outliers['PC_score'], c=user_activity_no_outliers['cluster'], cmap='plasma')\n",
    "plt.xlabel('Carted Items After Viewing')\n",
    "plt.ylabel('Purchased Items After Carting')\n",
    "plt.title('K-means Clustering of Users')\n",
    "\n",
    "plt.show()\n",
    "\n",
    "# View the distribution of users among clusters\n",
    "print(user_activity_no_outliers['cluster'].value_counts())"
   ]
  },
  {
   "cell_type": "code",
   "execution_count": 75,
   "id": "f2d856aa7b2a76f8",
   "metadata": {
    "ExecuteTime": {
     "end_time": "2024-04-22T02:33:27.723956100Z",
     "start_time": "2024-04-22T02:33:27.683450Z"
    }
   },
   "outputs": [],
   "source": [
    "# Identify the pink cluster\n",
    "pink_cluster_index = user_activity_no_outliers['cluster'] == 0  # Assuming that pink cluster is labeled as '2'\n",
    "\n",
    "# Separate points in the pink cluster with Y-axis value > 0.4\n",
    "user_activity_no_outliers.loc[pink_cluster_index, 'sub_cluster'] = np.where(\n",
    "    user_activity_no_outliers.loc[pink_cluster_index, 'PC_score'] > 0.4, \n",
    "    3,  # Assigning a new label for points with Y-axis value > 0.4\n",
    "    user_activity_no_outliers.loc[pink_cluster_index, 'cluster']\n",
    ")\n",
    "\n",
    "# Update the 'cluster' column to include sub-clusters\n",
    "user_activity_no_outliers['cluster'] = user_activity_no_outliers['sub_cluster'].fillna(user_activity_no_outliers['cluster']).astype(int)\n"
   ]
  },
  {
   "cell_type": "code",
   "execution_count": 76,
   "id": "95efafe2775302e4",
   "metadata": {
    "ExecuteTime": {
     "end_time": "2024-04-22T02:34:06.971069400Z",
     "start_time": "2024-04-22T02:34:03.142930100Z"
    }
   },
   "outputs": [
    {
     "data": {
      "image/png": "[encoded data removed]",
      "text/plain": [
       "<Figure size 432x288 with 1 Axes>"
      ]
     },
     "metadata": {
      "needs_background": "light"
     },
     "output_type": "display_data"
    }
   ],
   "source": [
    "\n",
    "# Visualize the clusters including sub-clusters\n",
    "plt.scatter(X_no_outliers['CV_score'], X_no_outliers['PC_score'], c=user_activity_no_outliers['cluster'], cmap='plasma')\n",
    "plt.xlabel('Carted Items After Viewing')\n",
    "plt.ylabel('Purchased Items After Carting')\n",
    "plt.title('K-means Clustering of Users with Sub-Clusters')\n",
    "\n",
    "plt.show()"
   ]
  },
  {
   "cell_type": "code",
   "execution_count": 77,
   "id": "4c70705418f091cf",
   "metadata": {
    "ExecuteTime": {
     "end_time": "2024-04-22T02:33:40.557485500Z",
     "start_time": "2024-04-22T02:33:37.885995Z"
    }
   },
   "outputs": [
    {
     "data": {
      "text/html": [
       "<div>\n",
       "<style scoped>\n",
       "    .dataframe tbody tr th:only-of-type {\n",
       "        vertical-align: middle;\n",
       "    }\n",
       "\n",
       "    .dataframe tbody tr th {\n",
       "        vertical-align: top;\n",
       "    }\n",
       "\n",
       "    .dataframe thead th {\n",
       "        text-align: right;\n",
       "    }\n",
       "</style>\n",
       "<table border=\"1\" class=\"dataframe\">\n",
       "  <thead>\n",
       "    <tr style=\"text-align: right;\">\n",
       "      <th></th>\n",
       "      <th>event_time</th>\n",
       "      <th>event_type</th>\n",
       "      <th>product_id</th>\n",
       "      <th>category_id</th>\n",
       "      <th>category_code</th>\n",
       "      <th>brand</th>\n",
       "      <th>price</th>\n",
       "      <th>user_id</th>\n",
       "      <th>user_session</th>\n",
       "      <th>date</th>\n",
       "      <th>user_purchase</th>\n",
       "      <th>event_weightage</th>\n",
       "      <th>product_category</th>\n",
       "      <th>cluster</th>\n",
       "    </tr>\n",
       "  </thead>\n",
       "  <tbody>\n",
       "    <tr>\n",
       "      <th>0</th>\n",
       "      <td>2019-11-01 00:00:10 UTC</td>\n",
       "      <td>view</td>\n",
       "      <td>1307350</td>\n",
       "      <td>2053013558920217191</td>\n",
       "      <td>computers.notebook</td>\n",
       "      <td>acer</td>\n",
       "      <td>514.79</td>\n",
       "      <td>513741043</td>\n",
       "      <td>82f7f972-346a-41f1-ae58-3ccf1edf6726</td>\n",
       "      <td>2019-11-01</td>\n",
       "      <td>0</td>\n",
       "      <td>1</td>\n",
       "      <td>computers</td>\n",
       "      <td>2</td>\n",
       "    </tr>\n",
       "    <tr>\n",
       "      <th>1</th>\n",
       "      <td>2019-11-01 00:00:14 UTC</td>\n",
       "      <td>view</td>\n",
       "      <td>1002544</td>\n",
       "      <td>2053013555631882655</td>\n",
       "      <td>electronics.smartphone</td>\n",
       "      <td>apple</td>\n",
       "      <td>458.28</td>\n",
       "      <td>549256216</td>\n",
       "      <td>dcbdc6e4-cd49-4ee8-95c5-e85f3c618fa1</td>\n",
       "      <td>2019-11-01</td>\n",
       "      <td>0</td>\n",
       "      <td>1</td>\n",
       "      <td>electronics</td>\n",
       "      <td>1</td>\n",
       "    </tr>\n",
       "    <tr>\n",
       "      <th>2</th>\n",
       "      <td>2019-11-01 00:00:14 UTC</td>\n",
       "      <td>cart</td>\n",
       "      <td>1005014</td>\n",
       "      <td>2053013555631882655</td>\n",
       "      <td>electronics.smartphone</td>\n",
       "      <td>samsung</td>\n",
       "      <td>503.09</td>\n",
       "      <td>533326659</td>\n",
       "      <td>6b928be2-2bce-4640-8296-0efdf2fda22a</td>\n",
       "      <td>2019-11-01</td>\n",
       "      <td>0</td>\n",
       "      <td>8</td>\n",
       "      <td>electronics</td>\n",
       "      <td>1</td>\n",
       "    </tr>\n",
       "    <tr>\n",
       "      <th>3</th>\n",
       "      <td>2019-11-01 00:00:17 UTC</td>\n",
       "      <td>view</td>\n",
       "      <td>1005161</td>\n",
       "      <td>2053013555631882655</td>\n",
       "      <td>electronics.smartphone</td>\n",
       "      <td>xiaomi</td>\n",
       "      <td>211.92</td>\n",
       "      <td>513351129</td>\n",
       "      <td>e6b7ce9b-1938-4e20-976c-8b4163aea11d</td>\n",
       "      <td>2019-11-01</td>\n",
       "      <td>0</td>\n",
       "      <td>1</td>\n",
       "      <td>electronics</td>\n",
       "      <td>1</td>\n",
       "    </tr>\n",
       "    <tr>\n",
       "      <th>4</th>\n",
       "      <td>2019-11-01 00:00:28 UTC</td>\n",
       "      <td>view</td>\n",
       "      <td>4804295</td>\n",
       "      <td>2053013554658804075</td>\n",
       "      <td>electronics.audio.headphone</td>\n",
       "      <td>xiaomi</td>\n",
       "      <td>22.80</td>\n",
       "      <td>543653226</td>\n",
       "      <td>ab310b47-1eb2-45f8-8e5b-21ab2010925a</td>\n",
       "      <td>2019-11-01</td>\n",
       "      <td>0</td>\n",
       "      <td>1</td>\n",
       "      <td>electronics</td>\n",
       "      <td>1</td>\n",
       "    </tr>\n",
       "    <tr>\n",
       "      <th>5</th>\n",
       "      <td>2019-11-01 00:00:35 UTC</td>\n",
       "      <td>view</td>\n",
       "      <td>2701305</td>\n",
       "      <td>2053013563911439225</td>\n",
       "      <td>appliances.kitchen.refrigerators</td>\n",
       "      <td>samsung</td>\n",
       "      <td>499.94</td>\n",
       "      <td>524356542</td>\n",
       "      <td>153f9818-4d32-4e8b-ba9f-f355094e8ae4</td>\n",
       "      <td>2019-11-01</td>\n",
       "      <td>0</td>\n",
       "      <td>1</td>\n",
       "      <td>appliances</td>\n",
       "      <td>2</td>\n",
       "    </tr>\n",
       "    <tr>\n",
       "      <th>6</th>\n",
       "      <td>2019-11-01 00:01:01 UTC</td>\n",
       "      <td>view</td>\n",
       "      <td>4804295</td>\n",
       "      <td>2053013554658804075</td>\n",
       "      <td>electronics.audio.headphone</td>\n",
       "      <td>xiaomi</td>\n",
       "      <td>22.80</td>\n",
       "      <td>543653226</td>\n",
       "      <td>ab310b47-1eb2-45f8-8e5b-21ab2010925a</td>\n",
       "      <td>2019-11-01</td>\n",
       "      <td>0</td>\n",
       "      <td>1</td>\n",
       "      <td>electronics</td>\n",
       "      <td>1</td>\n",
       "    </tr>\n",
       "    <tr>\n",
       "      <th>7</th>\n",
       "      <td>2019-11-01 00:01:03 UTC</td>\n",
       "      <td>view</td>\n",
       "      <td>1005116</td>\n",
       "      <td>2053013555631882655</td>\n",
       "      <td>electronics.smartphone</td>\n",
       "      <td>apple</td>\n",
       "      <td>1013.86</td>\n",
       "      <td>544896141</td>\n",
       "      <td>80a43be5-1e98-44ec-b60e-5c107c51c839</td>\n",
       "      <td>2019-11-01</td>\n",
       "      <td>0</td>\n",
       "      <td>1</td>\n",
       "      <td>electronics</td>\n",
       "      <td>1</td>\n",
       "    </tr>\n",
       "    <tr>\n",
       "      <th>8</th>\n",
       "      <td>2019-11-01 00:01:04 UTC</td>\n",
       "      <td>purchase</td>\n",
       "      <td>1005161</td>\n",
       "      <td>2053013555631882655</td>\n",
       "      <td>electronics.smartphone</td>\n",
       "      <td>xiaomi</td>\n",
       "      <td>211.92</td>\n",
       "      <td>513351129</td>\n",
       "      <td>e6b7ce9b-1938-4e20-976c-8b4163aea11d</td>\n",
       "      <td>2019-11-01</td>\n",
       "      <td>1</td>\n",
       "      <td>16</td>\n",
       "      <td>electronics</td>\n",
       "      <td>1</td>\n",
       "    </tr>\n",
       "    <tr>\n",
       "      <th>9</th>\n",
       "      <td>2019-11-01 00:01:26 UTC</td>\n",
       "      <td>view</td>\n",
       "      <td>1002528</td>\n",
       "      <td>2053013555631882655</td>\n",
       "      <td>electronics.smartphone</td>\n",
       "      <td>apple</td>\n",
       "      <td>617.52</td>\n",
       "      <td>549256216</td>\n",
       "      <td>dcbdc6e4-cd49-4ee8-95c5-e85f3c618fa1</td>\n",
       "      <td>2019-11-01</td>\n",
       "      <td>0</td>\n",
       "      <td>1</td>\n",
       "      <td>electronics</td>\n",
       "      <td>1</td>\n",
       "    </tr>\n",
       "    <tr>\n",
       "      <th>10</th>\n",
       "      <td>2019-11-01 00:01:52 UTC</td>\n",
       "      <td>view</td>\n",
       "      <td>1002532</td>\n",
       "      <td>2053013555631882655</td>\n",
       "      <td>electronics.smartphone</td>\n",
       "      <td>apple</td>\n",
       "      <td>532.57</td>\n",
       "      <td>549256216</td>\n",
       "      <td>dcbdc6e4-cd49-4ee8-95c5-e85f3c618fa1</td>\n",
       "      <td>2019-11-01</td>\n",
       "      <td>0</td>\n",
       "      <td>1</td>\n",
       "      <td>electronics</td>\n",
       "      <td>1</td>\n",
       "    </tr>\n",
       "    <tr>\n",
       "      <th>11</th>\n",
       "      <td>2019-11-01 00:01:57 UTC</td>\n",
       "      <td>view</td>\n",
       "      <td>1005161</td>\n",
       "      <td>2053013555631882655</td>\n",
       "      <td>electronics.smartphone</td>\n",
       "      <td>xiaomi</td>\n",
       "      <td>211.92</td>\n",
       "      <td>513351129</td>\n",
       "      <td>d3ff456e-0537-4c72-b126-752dd3e135db</td>\n",
       "      <td>2019-11-01</td>\n",
       "      <td>0</td>\n",
       "      <td>1</td>\n",
       "      <td>electronics</td>\n",
       "      <td>1</td>\n",
       "    </tr>\n",
       "    <tr>\n",
       "      <th>12</th>\n",
       "      <td>2019-11-01 00:02:02 UTC</td>\n",
       "      <td>view</td>\n",
       "      <td>1004873</td>\n",
       "      <td>2053013555631882655</td>\n",
       "      <td>electronics.smartphone</td>\n",
       "      <td>samsung</td>\n",
       "      <td>362.29</td>\n",
       "      <td>524356542</td>\n",
       "      <td>2f44a6ff-59aa-458c-acef-aee764d2ce10</td>\n",
       "      <td>2019-11-01</td>\n",
       "      <td>0</td>\n",
       "      <td>1</td>\n",
       "      <td>electronics</td>\n",
       "      <td>2</td>\n",
       "    </tr>\n",
       "    <tr>\n",
       "      <th>13</th>\n",
       "      <td>2019-11-01 00:02:06 UTC</td>\n",
       "      <td>view</td>\n",
       "      <td>3600163</td>\n",
       "      <td>2053013563810775923</td>\n",
       "      <td>appliances.kitchen.washer</td>\n",
       "      <td>indesit</td>\n",
       "      <td>177.27</td>\n",
       "      <td>543653226</td>\n",
       "      <td>ab310b47-1eb2-45f8-8e5b-21ab2010925a</td>\n",
       "      <td>2019-11-01</td>\n",
       "      <td>0</td>\n",
       "      <td>1</td>\n",
       "      <td>appliances</td>\n",
       "      <td>1</td>\n",
       "    </tr>\n",
       "    <tr>\n",
       "      <th>14</th>\n",
       "      <td>2019-11-01 00:02:18 UTC</td>\n",
       "      <td>view</td>\n",
       "      <td>5100566</td>\n",
       "      <td>2053013553341792533</td>\n",
       "      <td>electronics.clocks</td>\n",
       "      <td>apple</td>\n",
       "      <td>453.16</td>\n",
       "      <td>514877985</td>\n",
       "      <td>1746686f-822b-485d-9b2f-b24e8ec8b7ea</td>\n",
       "      <td>2019-11-01</td>\n",
       "      <td>0</td>\n",
       "      <td>1</td>\n",
       "      <td>electronics</td>\n",
       "      <td>1</td>\n",
       "    </tr>\n",
       "    <tr>\n",
       "      <th>15</th>\n",
       "      <td>2019-11-01 00:02:18 UTC</td>\n",
       "      <td>view</td>\n",
       "      <td>1002524</td>\n",
       "      <td>2053013555631882655</td>\n",
       "      <td>electronics.smartphone</td>\n",
       "      <td>apple</td>\n",
       "      <td>531.26</td>\n",
       "      <td>549256216</td>\n",
       "      <td>dcbdc6e4-cd49-4ee8-95c5-e85f3c618fa1</td>\n",
       "      <td>2019-11-01</td>\n",
       "      <td>0</td>\n",
       "      <td>1</td>\n",
       "      <td>electronics</td>\n",
       "      <td>1</td>\n",
       "    </tr>\n",
       "    <tr>\n",
       "      <th>16</th>\n",
       "      <td>2019-11-01 00:02:47 UTC</td>\n",
       "      <td>view</td>\n",
       "      <td>5100734</td>\n",
       "      <td>2053013553341792533</td>\n",
       "      <td>electronics.clocks</td>\n",
       "      <td>garmin</td>\n",
       "      <td>759.22</td>\n",
       "      <td>514877985</td>\n",
       "      <td>1746686f-822b-485d-9b2f-b24e8ec8b7ea</td>\n",
       "      <td>2019-11-01</td>\n",
       "      <td>0</td>\n",
       "      <td>1</td>\n",
       "      <td>electronics</td>\n",
       "      <td>1</td>\n",
       "    </tr>\n",
       "    <tr>\n",
       "      <th>17</th>\n",
       "      <td>2019-11-01 00:02:56 UTC</td>\n",
       "      <td>view</td>\n",
       "      <td>1005135</td>\n",
       "      <td>2053013555631882655</td>\n",
       "      <td>electronics.smartphone</td>\n",
       "      <td>apple</td>\n",
       "      <td>1665.36</td>\n",
       "      <td>562210838</td>\n",
       "      <td>a58d94c8-c0d4-4f24-bf3c-04c4e69ea153</td>\n",
       "      <td>2019-11-01</td>\n",
       "      <td>0</td>\n",
       "      <td>1</td>\n",
       "      <td>electronics</td>\n",
       "      <td>1</td>\n",
       "    </tr>\n",
       "    <tr>\n",
       "      <th>18</th>\n",
       "      <td>2019-11-01 00:02:56 UTC</td>\n",
       "      <td>view</td>\n",
       "      <td>1801881</td>\n",
       "      <td>2053013554415534427</td>\n",
       "      <td>electronics.video.tv</td>\n",
       "      <td>samsung</td>\n",
       "      <td>488.80</td>\n",
       "      <td>557746614</td>\n",
       "      <td>4d76d6d3-fff5-4880-8327-e9e57b618e0e</td>\n",
       "      <td>2019-11-01</td>\n",
       "      <td>0</td>\n",
       "      <td>1</td>\n",
       "      <td>electronics</td>\n",
       "      <td>2</td>\n",
       "    </tr>\n",
       "    <tr>\n",
       "      <th>19</th>\n",
       "      <td>2019-11-01 00:02:56 UTC</td>\n",
       "      <td>view</td>\n",
       "      <td>1002524</td>\n",
       "      <td>2053013555631882655</td>\n",
       "      <td>electronics.smartphone</td>\n",
       "      <td>apple</td>\n",
       "      <td>531.26</td>\n",
       "      <td>549256216</td>\n",
       "      <td>dcbdc6e4-cd49-4ee8-95c5-e85f3c618fa1</td>\n",
       "      <td>2019-11-01</td>\n",
       "      <td>0</td>\n",
       "      <td>1</td>\n",
       "      <td>electronics</td>\n",
       "      <td>1</td>\n",
       "    </tr>\n",
       "  </tbody>\n",
       "</table>\n",
       "</div>"
      ],
      "text/plain": [
       "                 event_time event_type  product_id          category_id  \\\n",
       "0   2019-11-01 00:00:10 UTC       view     1307350  2053013558920217191   \n",
       "1   2019-11-01 00:00:14 UTC       view     1002544  2053013555631882655   \n",
       "2   2019-11-01 00:00:14 UTC       cart     1005014  2053013555631882655   \n",
       "3   2019-11-01 00:00:17 UTC       view     1005161  2053013555631882655   \n",
       "4   2019-11-01 00:00:28 UTC       view     4804295  2053013554658804075   \n",
       "5   2019-11-01 00:00:35 UTC       view     2701305  2053013563911439225   \n",
       "6   2019-11-01 00:01:01 UTC       view     4804295  2053013554658804075   \n",
       "7   2019-11-01 00:01:03 UTC       view     1005116  2053013555631882655   \n",
       "8   2019-11-01 00:01:04 UTC   purchase     1005161  2053013555631882655   \n",
       "9   2019-11-01 00:01:26 UTC       view     1002528  2053013555631882655   \n",
       "10  2019-11-01 00:01:52 UTC       view     1002532  2053013555631882655   \n",
       "11  2019-11-01 00:01:57 UTC       view     1005161  2053013555631882655   \n",
       "12  2019-11-01 00:02:02 UTC       view     1004873  2053013555631882655   \n",
       "13  2019-11-01 00:02:06 UTC       view     3600163  2053013563810775923   \n",
       "14  2019-11-01 00:02:18 UTC       view     5100566  2053013553341792533   \n",
       "15  2019-11-01 00:02:18 UTC       view     1002524  2053013555631882655   \n",
       "16  2019-11-01 00:02:47 UTC       view     5100734  2053013553341792533   \n",
       "17  2019-11-01 00:02:56 UTC       view     1005135  2053013555631882655   \n",
       "18  2019-11-01 00:02:56 UTC       view     1801881  2053013554415534427   \n",
       "19  2019-11-01 00:02:56 UTC       view     1002524  2053013555631882655   \n",
       "\n",
       "                       category_code    brand    price    user_id  \\\n",
       "0                 computers.notebook     acer   514.79  513741043   \n",
       "1             electronics.smartphone    apple   458.28  549256216   \n",
       "2             electronics.smartphone  samsung   503.09  533326659   \n",
       "3             electronics.smartphone   xiaomi   211.92  513351129   \n",
       "4        electronics.audio.headphone   xiaomi    22.80  543653226   \n",
       "5   appliances.kitchen.refrigerators  samsung   499.94  524356542   \n",
       "6        electronics.audio.headphone   xiaomi    22.80  543653226   \n",
       "7             electronics.smartphone    apple  1013.86  544896141   \n",
       "8             electronics.smartphone   xiaomi   211.92  513351129   \n",
       "9             electronics.smartphone    apple   617.52  549256216   \n",
       "10            electronics.smartphone    apple   532.57  549256216   \n",
       "11            electronics.smartphone   xiaomi   211.92  513351129   \n",
       "12            electronics.smartphone  samsung   362.29  524356542   \n",
       "13         appliances.kitchen.washer  indesit   177.27  543653226   \n",
       "14                electronics.clocks    apple   453.16  514877985   \n",
       "15            electronics.smartphone    apple   531.26  549256216   \n",
       "16                electronics.clocks   garmin   759.22  514877985   \n",
       "17            electronics.smartphone    apple  1665.36  562210838   \n",
       "18              electronics.video.tv  samsung   488.80  557746614   \n",
       "19            electronics.smartphone    apple   531.26  549256216   \n",
       "\n",
       "                            user_session       date  user_purchase  \\\n",
       "0   82f7f972-346a-41f1-ae58-3ccf1edf6726 2019-11-01              0   \n",
       "1   dcbdc6e4-cd49-4ee8-95c5-e85f3c618fa1 2019-11-01              0   \n",
       "2   6b928be2-2bce-4640-8296-0efdf2fda22a 2019-11-01              0   \n",
       "3   e6b7ce9b-1938-4e20-976c-8b4163aea11d 2019-11-01              0   \n",
       "4   ab310b47-1eb2-45f8-8e5b-21ab2010925a 2019-11-01              0   \n",
       "5   153f9818-4d32-4e8b-ba9f-f355094e8ae4 2019-11-01              0   \n",
       "6   ab310b47-1eb2-45f8-8e5b-21ab2010925a 2019-11-01              0   \n",
       "7   80a43be5-1e98-44ec-b60e-5c107c51c839 2019-11-01              0   \n",
       "8   e6b7ce9b-1938-4e20-976c-8b4163aea11d 2019-11-01              1   \n",
       "9   dcbdc6e4-cd49-4ee8-95c5-e85f3c618fa1 2019-11-01              0   \n",
       "10  dcbdc6e4-cd49-4ee8-95c5-e85f3c618fa1 2019-11-01              0   \n",
       "11  d3ff456e-0537-4c72-b126-752dd3e135db 2019-11-01              0   \n",
       "12  2f44a6ff-59aa-458c-acef-aee764d2ce10 2019-11-01              0   \n",
       "13  ab310b47-1eb2-45f8-8e5b-21ab2010925a 2019-11-01              0   \n",
       "14  1746686f-822b-485d-9b2f-b24e8ec8b7ea 2019-11-01              0   \n",
       "15  dcbdc6e4-cd49-4ee8-95c5-e85f3c618fa1 2019-11-01              0   \n",
       "16  1746686f-822b-485d-9b2f-b24e8ec8b7ea 2019-11-01              0   \n",
       "17  a58d94c8-c0d4-4f24-bf3c-04c4e69ea153 2019-11-01              0   \n",
       "18  4d76d6d3-fff5-4880-8327-e9e57b618e0e 2019-11-01              0   \n",
       "19  dcbdc6e4-cd49-4ee8-95c5-e85f3c618fa1 2019-11-01              0   \n",
       "\n",
       "    event_weightage product_category  cluster  \n",
       "0                 1        computers        2  \n",
       "1                 1      electronics        1  \n",
       "2                 8      electronics        1  \n",
       "3                 1      electronics        1  \n",
       "4                 1      electronics        1  \n",
       "5                 1       appliances        2  \n",
       "6                 1      electronics        1  \n",
       "7                 1      electronics        1  \n",
       "8                16      electronics        1  \n",
       "9                 1      electronics        1  \n",
       "10                1      electronics        1  \n",
       "11                1      electronics        1  \n",
       "12                1      electronics        2  \n",
       "13                1       appliances        1  \n",
       "14                1      electronics        1  \n",
       "15                1      electronics        1  \n",
       "16                1      electronics        1  \n",
       "17                1      electronics        1  \n",
       "18                1      electronics        2  \n",
       "19                1      electronics        1  "
      ]
     },
     "execution_count": 77,
     "metadata": {},
     "output_type": "execute_result"
    }
   ],
   "source": [
    "# Merge the 'cluster' column from 'user_activity_no_outliers' to 'df_filtered'\n",
    "df = df.merge(user_activity_no_outliers[['cluster']], how='left', on='user_id')\n",
    "\n",
    "# Fill missing values in 'cluster' column with a default value (e.g., -1)\n",
    "df['cluster'] = df['cluster'].fillna(-1).astype(int)\n",
    "df.head(20)"
   ]
  },
  {
   "cell_type": "markdown",
   "id": "9b4eddc7707e340c",
   "metadata": {},
   "source": [
    "# Cluster EDA #"
   ]
  },
  {
   "cell_type": "code",
   "execution_count": 78,
   "id": "1e038fd265a5fe58",
   "metadata": {
    "ExecuteTime": {
     "end_time": "2024-04-22T02:33:40.594481500Z",
     "start_time": "2024-04-22T02:33:40.558484800Z"
    }
   },
   "outputs": [
    {
     "data": {
      "text/html": [
       "<div>\n",
       "<style scoped>\n",
       "    .dataframe tbody tr th:only-of-type {\n",
       "        vertical-align: middle;\n",
       "    }\n",
       "\n",
       "    .dataframe tbody tr th {\n",
       "        vertical-align: top;\n",
       "    }\n",
       "\n",
       "    .dataframe thead th {\n",
       "        text-align: right;\n",
       "    }\n",
       "</style>\n",
       "<table border=\"1\" class=\"dataframe\">\n",
       "  <thead>\n",
       "    <tr style=\"text-align: right;\">\n",
       "      <th></th>\n",
       "      <th>event_time</th>\n",
       "      <th>event_type</th>\n",
       "      <th>product_id</th>\n",
       "      <th>category_id</th>\n",
       "      <th>category_code</th>\n",
       "      <th>brand</th>\n",
       "      <th>price</th>\n",
       "      <th>user_id</th>\n",
       "      <th>user_session</th>\n",
       "      <th>date</th>\n",
       "      <th>user_purchase</th>\n",
       "      <th>event_weightage</th>\n",
       "      <th>product_category</th>\n",
       "      <th>cluster</th>\n",
       "    </tr>\n",
       "  </thead>\n",
       "  <tbody>\n",
       "    <tr>\n",
       "      <th>0</th>\n",
       "      <td>2019-11-01 00:00:10 UTC</td>\n",
       "      <td>view</td>\n",
       "      <td>1307350</td>\n",
       "      <td>2053013558920217191</td>\n",
       "      <td>computers.notebook</td>\n",
       "      <td>acer</td>\n",
       "      <td>514.79</td>\n",
       "      <td>513741043</td>\n",
       "      <td>82f7f972-346a-41f1-ae58-3ccf1edf6726</td>\n",
       "      <td>2019-11-01</td>\n",
       "      <td>0</td>\n",
       "      <td>1</td>\n",
       "      <td>computers</td>\n",
       "      <td>2</td>\n",
       "    </tr>\n",
       "    <tr>\n",
       "      <th>1</th>\n",
       "      <td>2019-11-01 00:00:14 UTC</td>\n",
       "      <td>view</td>\n",
       "      <td>1002544</td>\n",
       "      <td>2053013555631882655</td>\n",
       "      <td>electronics.smartphone</td>\n",
       "      <td>apple</td>\n",
       "      <td>458.28</td>\n",
       "      <td>549256216</td>\n",
       "      <td>dcbdc6e4-cd49-4ee8-95c5-e85f3c618fa1</td>\n",
       "      <td>2019-11-01</td>\n",
       "      <td>0</td>\n",
       "      <td>1</td>\n",
       "      <td>electronics</td>\n",
       "      <td>1</td>\n",
       "    </tr>\n",
       "    <tr>\n",
       "      <th>2</th>\n",
       "      <td>2019-11-01 00:00:14 UTC</td>\n",
       "      <td>cart</td>\n",
       "      <td>1005014</td>\n",
       "      <td>2053013555631882655</td>\n",
       "      <td>electronics.smartphone</td>\n",
       "      <td>samsung</td>\n",
       "      <td>503.09</td>\n",
       "      <td>533326659</td>\n",
       "      <td>6b928be2-2bce-4640-8296-0efdf2fda22a</td>\n",
       "      <td>2019-11-01</td>\n",
       "      <td>0</td>\n",
       "      <td>8</td>\n",
       "      <td>electronics</td>\n",
       "      <td>1</td>\n",
       "    </tr>\n",
       "    <tr>\n",
       "      <th>3</th>\n",
       "      <td>2019-11-01 00:00:17 UTC</td>\n",
       "      <td>view</td>\n",
       "      <td>1005161</td>\n",
       "      <td>2053013555631882655</td>\n",
       "      <td>electronics.smartphone</td>\n",
       "      <td>xiaomi</td>\n",
       "      <td>211.92</td>\n",
       "      <td>513351129</td>\n",
       "      <td>e6b7ce9b-1938-4e20-976c-8b4163aea11d</td>\n",
       "      <td>2019-11-01</td>\n",
       "      <td>0</td>\n",
       "      <td>1</td>\n",
       "      <td>electronics</td>\n",
       "      <td>1</td>\n",
       "    </tr>\n",
       "    <tr>\n",
       "      <th>4</th>\n",
       "      <td>2019-11-01 00:00:28 UTC</td>\n",
       "      <td>view</td>\n",
       "      <td>4804295</td>\n",
       "      <td>2053013554658804075</td>\n",
       "      <td>electronics.audio.headphone</td>\n",
       "      <td>xiaomi</td>\n",
       "      <td>22.80</td>\n",
       "      <td>543653226</td>\n",
       "      <td>ab310b47-1eb2-45f8-8e5b-21ab2010925a</td>\n",
       "      <td>2019-11-01</td>\n",
       "      <td>0</td>\n",
       "      <td>1</td>\n",
       "      <td>electronics</td>\n",
       "      <td>1</td>\n",
       "    </tr>\n",
       "  </tbody>\n",
       "</table>\n",
       "</div>"
      ],
      "text/plain": [
       "                event_time event_type  product_id          category_id  \\\n",
       "0  2019-11-01 00:00:10 UTC       view     1307350  2053013558920217191   \n",
       "1  2019-11-01 00:00:14 UTC       view     1002544  2053013555631882655   \n",
       "2  2019-11-01 00:00:14 UTC       cart     1005014  2053013555631882655   \n",
       "3  2019-11-01 00:00:17 UTC       view     1005161  2053013555631882655   \n",
       "4  2019-11-01 00:00:28 UTC       view     4804295  2053013554658804075   \n",
       "\n",
       "                 category_code    brand   price    user_id  \\\n",
       "0           computers.notebook     acer  514.79  513741043   \n",
       "1       electronics.smartphone    apple  458.28  549256216   \n",
       "2       electronics.smartphone  samsung  503.09  533326659   \n",
       "3       electronics.smartphone   xiaomi  211.92  513351129   \n",
       "4  electronics.audio.headphone   xiaomi   22.80  543653226   \n",
       "\n",
       "                           user_session       date  user_purchase  \\\n",
       "0  82f7f972-346a-41f1-ae58-3ccf1edf6726 2019-11-01              0   \n",
       "1  dcbdc6e4-cd49-4ee8-95c5-e85f3c618fa1 2019-11-01              0   \n",
       "2  6b928be2-2bce-4640-8296-0efdf2fda22a 2019-11-01              0   \n",
       "3  e6b7ce9b-1938-4e20-976c-8b4163aea11d 2019-11-01              0   \n",
       "4  ab310b47-1eb2-45f8-8e5b-21ab2010925a 2019-11-01              0   \n",
       "\n",
       "   event_weightage product_category  cluster  \n",
       "0                1        computers        2  \n",
       "1                1      electronics        1  \n",
       "2                8      electronics        1  \n",
       "3                1      electronics        1  \n",
       "4                1      electronics        1  "
      ]
     },
     "execution_count": 78,
     "metadata": {},
     "output_type": "execute_result"
    }
   ],
   "source": [
    "df.head()"
   ]
  },
  {
   "cell_type": "code",
   "execution_count": 79,
   "id": "12610b6ac452ab52",
   "metadata": {
    "ExecuteTime": {
     "end_time": "2024-04-22T02:33:45.472318600Z",
     "start_time": "2024-04-22T02:33:40.578485700Z"
    }
   },
   "outputs": [
    {
     "name": "stdout",
     "output_type": "stream",
     "text": [
      "         Average Purchases per User  Average Total Purchase Price per User  \\\n",
      "cluster                                                                      \n",
      "-1                         9.784467                            4204.563926   \n",
      " 0                         1.584653                             572.964571   \n",
      " 1                         1.231440                             410.375985   \n",
      " 2                         4.073935                            1573.787252   \n",
      " 3                         5.475475                            2208.669696   \n",
      "\n",
      "         Percentage of Users  Percentage of Revenue  Conversion Rate  \n",
      "cluster                                                               \n",
      "-1                  0.019888               3.897090         0.226312  \n",
      " 0                  0.087069               5.330325         0.108200  \n",
      " 1                  0.683097              66.257386         0.033537  \n",
      " 2                  0.180683              21.239691         0.114058  \n",
      " 3                  0.029264               3.275508         0.251329  \n"
     ]
    }
   ],
   "source": [
    "# Calculate the number of purchases made by each user in each cluster\n",
    "purchase_counts = df[df['event_type'] == 'purchase'].groupby(['cluster', 'user_id']).size()\n",
    "# --------------------------\n",
    "# Calculate the average number of purchases per user in each cluster\n",
    "average_purchases_per_user = purchase_counts.groupby('cluster').mean()\n",
    "# --------------------------\n",
    "total_purchase_price_per_user = df[df['event_type'] == 'purchase'].groupby(['cluster', 'user_id'])['price'].sum()\n",
    "# Calculate the average total purchase price per user in each cluster\n",
    "average_total_purchase_price_per_user = total_purchase_price_per_user.groupby('cluster').mean()\n",
    "# --------------------------\n",
    "# Calculate the percentage of users in each cluster compared to the overall count\n",
    "user_counts = df.groupby('cluster')['user_id'].nunique()\n",
    "cluster_percentages = user_counts / user_counts.sum()\n",
    "# --------------------------\n",
    "total_revenue = df['price'].sum()\n",
    "# Group by cluster and calculate revenue for each cluster\n",
    "cluster_revenue = df.groupby('cluster')['price'].sum()\n",
    "# Calculate percentage of revenue contributed by each cluster\n",
    "cluster_revenue_percentage = (cluster_revenue / total_revenue) * 100\n",
    "# --------------------------\n",
    "df['event_type'] = pd.Categorical(df['event_type'], categories=['view', 'cart', 'purchase'], ordered=True)\n",
    "# Calculate the counts of each event type for each cluster\n",
    "cluster_activity = df.groupby(['cluster', 'user_id'])['event_type'].value_counts().unstack(fill_value=0)\n",
    "# Calculate total views and purchases for each cluster\n",
    "total_views_per_cluster = cluster_activity.groupby('cluster')['view'].sum()\n",
    "total_purchases_per_cluster = cluster_activity.groupby('cluster')['purchase'].sum()\n",
    "# Calculate conversion rate for each cluster\n",
    "conversion_rate_per_cluster = total_purchases_per_cluster / total_views_per_cluster\n",
    "# --------------------------\n",
    "\n",
    "\n",
    "# Combine the results into a DataFrame\n",
    "cluster_analysis = pd.DataFrame({\n",
    "    'Average Purchases per User': average_purchases_per_user,\n",
    "    'Average Total Purchase Price per User': average_total_purchase_price_per_user,\n",
    "    'Percentage of Users': cluster_percentages,\n",
    "    'Percentage of Revenue': cluster_revenue_percentage,\n",
    "    'Conversion Rate': conversion_rate_per_cluster,\n",
    "})\n",
    "\n",
    "# Display the results\n",
    "print(cluster_analysis)"
   ]
  },
  {
   "cell_type": "code",
   "execution_count": 80,
   "id": "4d63c5ca64167118",
   "metadata": {
    "ExecuteTime": {
     "end_time": "2024-04-22T02:33:45.506319100Z",
     "start_time": "2024-04-22T02:33:45.470318700Z"
    }
   },
   "outputs": [],
   "source": [
    "#conversion_rate_per_cluster.loc[0] = 0.0705175602633399"
   ]
  },
  {
   "cell_type": "code",
   "execution_count": 81,
   "id": "7b91f0adbf98380b",
   "metadata": {
    "ExecuteTime": {
     "end_time": "2024-04-22T02:33:45.659351200Z",
     "start_time": "2024-04-22T02:33:45.490322400Z"
    }
   },
   "outputs": [
    {
     "data": {
      "image/png": "[encoded data removed]",
      "text/plain": [
       "<Figure size 576x576 with 1 Axes>"
      ]
     },
     "metadata": {
      "needs_background": "light"
     },
     "output_type": "display_data"
    }
   ],
   "source": [
    "import numpy as np\n",
    "import matplotlib.pyplot as plt\n",
    "from matplotlib import style \n",
    "\n",
    "plt.style.use('fast')\n",
    "\n",
    "# Define the features\n",
    "features = ['Average Purchases per User', 'Average Total Purchase Price per User', \n",
    "            'Percentage of Users', 'Percentage of Revenue', 'Conversion Rate']\n",
    "\n",
    "# Calculate the maximum value among all clusters for each feature\n",
    "max_values = cluster_analysis[features].max()\n",
    "\n",
    "# Create radar chart for the selected cluster\n",
    "selected_cluster = 3  # Change this to the desired cluster number\n",
    "if selected_cluster in cluster_analysis.index:\n",
    "    fig, ax = plt.subplots(figsize=(8, 8), subplot_kw=dict(polar=True))\n",
    "    values_cluster = cluster_analysis.loc[selected_cluster, features]\n",
    "    \n",
    "    # Scale values based on maximum values\n",
    "    values_cluster_scaled = values_cluster / max_values\n",
    "    \n",
    "    angles = np.linspace(0, 2 * np.pi, len(features), endpoint=False).tolist()\n",
    "    values_cluster_scaled = np.concatenate((values_cluster_scaled, [values_cluster_scaled[0]]))  # Closing the loop\n",
    "    angles += angles[:1]  # Closing the loop\n",
    "    ax.plot(angles, values_cluster_scaled, linewidth=1, linestyle='solid', label=f'Cluster {selected_cluster}')\n",
    "    ax.fill(angles, values_cluster_scaled, alpha=0.1)\n",
    "    ax.set_yticklabels([])\n",
    "    ax.set_xticks(angles[:-1])\n",
    "    ax.set_xticklabels(features, fontsize=12)\n",
    "    plt.show()\n",
    "else:\n",
    "    print(f\"Cluster {selected_cluster} does not exist in the data.\")\n"
   ]
  },
  {
   "cell_type": "code",
   "execution_count": null,
   "id": "1539c18b736c9a9b",
   "metadata": {
    "ExecuteTime": {
     "end_time": "2024-04-22T02:33:46.780916100Z",
     "start_time": "2024-04-22T02:33:46.777934400Z"
    }
   },
   "outputs": [],
   "source": [
    "cluster_analysis"
   ]
  },
  {
   "cell_type": "code",
   "execution_count": 83,
   "id": "bfbbe81a040ef956",
   "metadata": {},
   "outputs": [],
   "source": [
    "df.to_csv('filterwithcluster.csv')"
   ]
  },
  {
   "cell_type": "markdown",
   "id": "1619c189",
   "metadata": {},
   "source": [
    "### Popularity based Recommendation System"
   ]
  },
  {
   "cell_type": "code",
   "execution_count": 33,
   "id": "1a8f4b2d",
   "metadata": {},
   "outputs": [],
   "source": [
    "def top_product_by_value_count(df):\n",
    "\n",
    "    # Calculate popularity of each category\n",
    "    category_popularity = df['product_category'].value_counts().reset_index()\n",
    "    category_popularity.columns = ['product_category', 'popularity']\n",
    "\n",
    "    # Select top 5 categories\n",
    "    top_5_categories = category_popularity.nlargest(5, 'popularity')['product_category']\n",
    "\n",
    "    # Filter data for top 5 categories\n",
    "    df_top_5_categories = df[df['product_category'].isin(top_5_categories)]\n",
    "\n",
    "    # Calculate popularity of each product within top 5 categories\n",
    "    popularity = df_top_5_categories.groupby(['product_category', 'product_id']).size().reset_index(name='popularity_by_value_count')\n",
    "\n",
    "    # Sort products by popularity within each category\n",
    "    popularity_sorted = popularity.sort_values(by=['product_category', 'popularity_by_value_count'], ascending=[True, False])\n",
    "\n",
    "    # Select top 10 popular products in each category\n",
    "    top_10_popular = popularity_sorted.groupby('product_category').head(2)\n",
    "    \n",
    "    return top_10_popular"
   ]
  },
  {
   "cell_type": "code",
   "execution_count": 34,
   "id": "ca7b5ec7",
   "metadata": {},
   "outputs": [],
   "source": [
    "top_product_comparison = top_product_by_value_count(df)"
   ]
  },
  {
   "cell_type": "code",
   "execution_count": 35,
   "id": "abe1e573",
   "metadata": {},
   "outputs": [
    {
     "data": {
      "text/html": [
       "<div>\n",
       "<style scoped>\n",
       "    .dataframe tbody tr th:only-of-type {\n",
       "        vertical-align: middle;\n",
       "    }\n",
       "\n",
       "    .dataframe tbody tr th {\n",
       "        vertical-align: top;\n",
       "    }\n",
       "\n",
       "    .dataframe thead th {\n",
       "        text-align: right;\n",
       "    }\n",
       "</style>\n",
       "<table border=\"1\" class=\"dataframe\">\n",
       "  <thead>\n",
       "    <tr style=\"text-align: right;\">\n",
       "      <th></th>\n",
       "      <th>product_category</th>\n",
       "      <th>product_id</th>\n",
       "      <th>popularity_by_value_count</th>\n",
       "    </tr>\n",
       "  </thead>\n",
       "  <tbody>\n",
       "    <tr>\n",
       "      <th>2913</th>\n",
       "      <td>apparel</td>\n",
       "      <td>28716666</td>\n",
       "      <td>4556</td>\n",
       "    </tr>\n",
       "    <tr>\n",
       "      <th>1847</th>\n",
       "      <td>apparel</td>\n",
       "      <td>28713229</td>\n",
       "      <td>2916</td>\n",
       "    </tr>\n",
       "    <tr>\n",
       "      <th>16079</th>\n",
       "      <td>appliances</td>\n",
       "      <td>3600661</td>\n",
       "      <td>29293</td>\n",
       "    </tr>\n",
       "    <tr>\n",
       "      <th>16722</th>\n",
       "      <td>appliances</td>\n",
       "      <td>3700926</td>\n",
       "      <td>20950</td>\n",
       "    </tr>\n",
       "    <tr>\n",
       "      <th>23689</th>\n",
       "      <td>auto</td>\n",
       "      <td>6000094</td>\n",
       "      <td>15492</td>\n",
       "    </tr>\n",
       "    <tr>\n",
       "      <th>23752</th>\n",
       "      <td>auto</td>\n",
       "      <td>6000227</td>\n",
       "      <td>8287</td>\n",
       "    </tr>\n",
       "    <tr>\n",
       "      <th>25026</th>\n",
       "      <td>computers</td>\n",
       "      <td>1307310</td>\n",
       "      <td>18286</td>\n",
       "    </tr>\n",
       "    <tr>\n",
       "      <th>24829</th>\n",
       "      <td>computers</td>\n",
       "      <td>1307073</td>\n",
       "      <td>16420</td>\n",
       "    </tr>\n",
       "    <tr>\n",
       "      <th>31815</th>\n",
       "      <td>electronics</td>\n",
       "      <td>1004856</td>\n",
       "      <td>263102</td>\n",
       "    </tr>\n",
       "    <tr>\n",
       "      <th>32009</th>\n",
       "      <td>electronics</td>\n",
       "      <td>1005115</td>\n",
       "      <td>239616</td>\n",
       "    </tr>\n",
       "  </tbody>\n",
       "</table>\n",
       "</div>"
      ],
      "text/plain": [
       "      product_category  product_id  popularity_by_value_count\n",
       "2913           apparel    28716666                       4556\n",
       "1847           apparel    28713229                       2916\n",
       "16079       appliances     3600661                      29293\n",
       "16722       appliances     3700926                      20950\n",
       "23689             auto     6000094                      15492\n",
       "23752             auto     6000227                       8287\n",
       "25026        computers     1307310                      18286\n",
       "24829        computers     1307073                      16420\n",
       "31815      electronics     1004856                     263102\n",
       "32009      electronics     1005115                     239616"
      ]
     },
     "execution_count": 35,
     "metadata": {},
     "output_type": "execute_result"
    }
   ],
   "source": [
    "top_product_comparison"
   ]
  },
  {
   "cell_type": "code",
   "execution_count": 36,
   "id": "e2336fd0",
   "metadata": {},
   "outputs": [],
   "source": [
    "def top_product_by_category(df):\n",
    "    # Calculate the sum of event_weightage for each category\n",
    "    category_sum = df.groupby('product_category')['event_weightage'].sum().reset_index()\n",
    "\n",
    "    # Select the top 5 categories based on the sum of event_weightage\n",
    "    top_5_categories = category_sum.nlargest(5, 'event_weightage')['product_category']\n",
    "\n",
    "    # Filter data for top 5 categories\n",
    "    df_top_5_categories = df[df['product_category'].isin(top_5_categories)]\n",
    "\n",
    "    # Calculate popularity of each product within top 5 categories\n",
    "    popularity = df_top_5_categories.groupby(['product_category', 'product_id'])['event_weightage'].sum().reset_index(name='popularity')\n",
    "\n",
    "    # Sort products by popularity within each category\n",
    "    popularity_sorted = popularity.sort_values(by=['product_category', 'popularity'], ascending=[True, False])\n",
    "\n",
    "    # Select top 10 popular products in each category\n",
    "    top_10_popular = popularity_sorted.groupby('product_category').head(5)\n",
    "\n",
    "    return top_10_popular"
   ]
  },
  {
   "cell_type": "code",
   "execution_count": 37,
   "id": "98d52172",
   "metadata": {},
   "outputs": [],
   "source": [
    "top_product = top_product_by_category(df)"
   ]
  },
  {
   "cell_type": "code",
   "execution_count": 38,
   "id": "14fff84d",
   "metadata": {},
   "outputs": [
    {
     "name": "stdout",
     "output_type": "stream",
     "text": [
      "Top Trending Product in  apparel\n",
      "28716666\n",
      "28720716\n",
      "28719606\n",
      "28719076\n",
      "28716978\n",
      "Top Trending Product in  appliances\n",
      "3600661\n",
      "3700926\n",
      "3600666\n",
      "3601405\n",
      "3601603\n",
      "Top Trending Product in  auto\n",
      "6000094\n",
      "6000227\n",
      "4700478\n",
      "6000004\n",
      "6000229\n",
      "Top Trending Product in  computers\n",
      "1307310\n",
      "1307073\n",
      "1307545\n",
      "1307188\n",
      "1307076\n",
      "Top Trending Product in  electronics\n",
      "1004856\n",
      "1005115\n",
      "1004767\n",
      "4804056\n",
      "1004833\n"
     ]
    }
   ],
   "source": [
    "categories = top_product['product_category'].unique()\n",
    "for category in categories:\n",
    "    print(\"Top Trending Product in \",category)\n",
    "    for product in top_product.loc[top_product['product_category']==category]['product_id']:\n",
    "        print(product)"
   ]
  },
  {
   "cell_type": "code",
   "execution_count": 39,
   "id": "a95652c0",
   "metadata": {},
   "outputs": [
    {
     "data": {
      "text/plain": [
       "946         apparel.shoes\n",
       "6261        apparel.shoes\n",
       "6607        apparel.shoes\n",
       "8881        apparel.shoes\n",
       "18046       apparel.shoes\n",
       "                ...      \n",
       "11842575    apparel.shoes\n",
       "11977115    apparel.shoes\n",
       "11977873    apparel.shoes\n",
       "11977875    apparel.shoes\n",
       "12046088    apparel.shoes\n",
       "Name: category_code, Length: 4556, dtype: object"
      ]
     },
     "execution_count": 39,
     "metadata": {},
     "output_type": "execute_result"
    }
   ],
   "source": [
    "df.loc[df['product_id']==28716666]['category_code']"
   ]
  },
  {
   "cell_type": "code",
   "execution_count": 50,
   "id": "f2947830",
   "metadata": {},
   "outputs": [
    {
     "data": {
      "application/vnd.plotly.v1+json": {
       "config": {
        "plotlyServerURL": "https://plot.ly"
       },
       "data": [
        {
         "mode": "lines",
         "name": "apparel",
         "type": "scatter",
         "x": [
          "2019-11-01T00:00:00",
          "2019-11-02T00:00:00",
          "2019-11-03T00:00:00",
          "2019-11-04T00:00:00",
          "2019-11-05T00:00:00",
          "2019-11-06T00:00:00",
          "2019-11-07T00:00:00",
          "2019-11-08T00:00:00",
          "2019-11-09T00:00:00",
          "2019-11-10T00:00:00",
          "2019-11-11T00:00:00",
          "2019-11-12T00:00:00",
          "2019-11-13T00:00:00",
          "2019-11-14T00:00:00",
          "2019-11-15T00:00:00",
          "2019-11-16T00:00:00",
          "2019-11-17T00:00:00",
          "2019-11-18T00:00:00",
          "2019-11-19T00:00:00",
          "2019-11-20T00:00:00",
          "2019-11-21T00:00:00",
          "2019-11-22T00:00:00",
          "2019-11-23T00:00:00",
          "2019-11-24T00:00:00",
          "2019-11-25T00:00:00",
          "2019-11-26T00:00:00",
          "2019-11-27T00:00:00",
          "2019-11-28T00:00:00",
          "2019-11-29T00:00:00",
          "2019-11-30T00:00:00"
         ],
         "y": [
          7100,
          7601,
          7724,
          9551,
          11374,
          11162,
          12427,
          13115,
          14304,
          13930,
          15269,
          15543,
          14031,
          23909,
          49954,
          78246,
          93750,
          19921,
          16020,
          16905,
          16395,
          16474,
          14271,
          13492,
          13069,
          15018,
          14080,
          11365,
          11487,
          10725
         ]
        },
        {
         "mode": "lines",
         "name": "appliances",
         "type": "scatter",
         "x": [
          "2019-11-01T00:00:00",
          "2019-11-02T00:00:00",
          "2019-11-03T00:00:00",
          "2019-11-04T00:00:00",
          "2019-11-05T00:00:00",
          "2019-11-06T00:00:00",
          "2019-11-07T00:00:00",
          "2019-11-08T00:00:00",
          "2019-11-09T00:00:00",
          "2019-11-10T00:00:00",
          "2019-11-11T00:00:00",
          "2019-11-12T00:00:00",
          "2019-11-13T00:00:00",
          "2019-11-14T00:00:00",
          "2019-11-15T00:00:00",
          "2019-11-16T00:00:00",
          "2019-11-17T00:00:00",
          "2019-11-18T00:00:00",
          "2019-11-19T00:00:00",
          "2019-11-20T00:00:00",
          "2019-11-21T00:00:00",
          "2019-11-22T00:00:00",
          "2019-11-23T00:00:00",
          "2019-11-24T00:00:00",
          "2019-11-25T00:00:00",
          "2019-11-26T00:00:00",
          "2019-11-27T00:00:00",
          "2019-11-28T00:00:00",
          "2019-11-29T00:00:00",
          "2019-11-30T00:00:00"
         ],
         "y": [
          27734,
          29858,
          31882,
          36205,
          34040,
          34057,
          35712,
          52442,
          50778,
          53565,
          52438,
          52177,
          50970,
          88589,
          218172,
          339811,
          528043,
          67725,
          50747,
          47686,
          45766,
          47786,
          48095,
          48336,
          43905,
          47305,
          45600,
          46545,
          60103,
          51057
         ]
        },
        {
         "mode": "lines",
         "name": "auto",
         "type": "scatter",
         "x": [
          "2019-11-01T00:00:00",
          "2019-11-02T00:00:00",
          "2019-11-03T00:00:00",
          "2019-11-04T00:00:00",
          "2019-11-05T00:00:00",
          "2019-11-06T00:00:00",
          "2019-11-07T00:00:00",
          "2019-11-08T00:00:00",
          "2019-11-09T00:00:00",
          "2019-11-10T00:00:00",
          "2019-11-11T00:00:00",
          "2019-11-12T00:00:00",
          "2019-11-13T00:00:00",
          "2019-11-14T00:00:00",
          "2019-11-15T00:00:00",
          "2019-11-16T00:00:00",
          "2019-11-17T00:00:00",
          "2019-11-18T00:00:00",
          "2019-11-19T00:00:00",
          "2019-11-20T00:00:00",
          "2019-11-21T00:00:00",
          "2019-11-22T00:00:00",
          "2019-11-23T00:00:00",
          "2019-11-24T00:00:00",
          "2019-11-25T00:00:00",
          "2019-11-26T00:00:00",
          "2019-11-27T00:00:00",
          "2019-11-28T00:00:00",
          "2019-11-29T00:00:00",
          "2019-11-30T00:00:00"
         ],
         "y": [
          3326,
          3607,
          3871,
          5098,
          4605,
          4571,
          5253,
          5908,
          5433,
          5631,
          7066,
          6476,
          6730,
          9522,
          21099,
          28874,
          43066,
          7947,
          6899,
          6834,
          6435,
          5577,
          5759,
          5131,
          4808,
          5268,
          5269,
          5762,
          5532,
          5059
         ]
        },
        {
         "mode": "lines",
         "name": "computers",
         "type": "scatter",
         "x": [
          "2019-11-01T00:00:00",
          "2019-11-02T00:00:00",
          "2019-11-03T00:00:00",
          "2019-11-04T00:00:00",
          "2019-11-05T00:00:00",
          "2019-11-06T00:00:00",
          "2019-11-07T00:00:00",
          "2019-11-08T00:00:00",
          "2019-11-09T00:00:00",
          "2019-11-10T00:00:00",
          "2019-11-11T00:00:00",
          "2019-11-12T00:00:00",
          "2019-11-13T00:00:00",
          "2019-11-14T00:00:00",
          "2019-11-15T00:00:00",
          "2019-11-16T00:00:00",
          "2019-11-17T00:00:00",
          "2019-11-18T00:00:00",
          "2019-11-19T00:00:00",
          "2019-11-20T00:00:00",
          "2019-11-21T00:00:00",
          "2019-11-22T00:00:00",
          "2019-11-23T00:00:00",
          "2019-11-24T00:00:00",
          "2019-11-25T00:00:00",
          "2019-11-26T00:00:00",
          "2019-11-27T00:00:00",
          "2019-11-28T00:00:00",
          "2019-11-29T00:00:00",
          "2019-11-30T00:00:00"
         ],
         "y": [
          15668,
          17014,
          17957,
          18990,
          21080,
          20769,
          20690,
          26515,
          26438,
          26597,
          26974,
          26584,
          28751,
          54728,
          111150,
          140766,
          170966,
          31518,
          26149,
          24012,
          22828,
          20782,
          21576,
          20865,
          20744,
          23182,
          22983,
          23532,
          29361,
          25333
         ]
        },
        {
         "mode": "lines",
         "name": "electronics",
         "type": "scatter",
         "x": [
          "2019-11-01T00:00:00",
          "2019-11-02T00:00:00",
          "2019-11-03T00:00:00",
          "2019-11-04T00:00:00",
          "2019-11-05T00:00:00",
          "2019-11-06T00:00:00",
          "2019-11-07T00:00:00",
          "2019-11-08T00:00:00",
          "2019-11-09T00:00:00",
          "2019-11-10T00:00:00",
          "2019-11-11T00:00:00",
          "2019-11-12T00:00:00",
          "2019-11-13T00:00:00",
          "2019-11-14T00:00:00",
          "2019-11-15T00:00:00",
          "2019-11-16T00:00:00",
          "2019-11-17T00:00:00",
          "2019-11-18T00:00:00",
          "2019-11-19T00:00:00",
          "2019-11-20T00:00:00",
          "2019-11-21T00:00:00",
          "2019-11-22T00:00:00",
          "2019-11-23T00:00:00",
          "2019-11-24T00:00:00",
          "2019-11-25T00:00:00",
          "2019-11-26T00:00:00",
          "2019-11-27T00:00:00",
          "2019-11-28T00:00:00",
          "2019-11-29T00:00:00",
          "2019-11-30T00:00:00"
         ],
         "y": [
          135341,
          139027,
          144748,
          162558,
          150734,
          151583,
          152676,
          190721,
          179024,
          180834,
          188272,
          186315,
          192818,
          314331,
          565484,
          789744,
          1035066,
          244441,
          198139,
          185694,
          177267,
          172514,
          169702,
          175908,
          171293,
          173454,
          175653,
          179761,
          221863,
          186542
         ]
        }
       ],
       "layout": {
        "template": {
         "data": {
          "bar": [
           {
            "error_x": {
             "color": "#2a3f5f"
            },
            "error_y": {
             "color": "#2a3f5f"
            },
            "marker": {
             "line": {
              "color": "white",
              "width": 0.5
             },
             "pattern": {
              "fillmode": "overlay",
              "size": 10,
              "solidity": 0.2
             }
            },
            "type": "bar"
           }
          ],
          "barpolar": [
           {
            "marker": {
             "line": {
              "color": "white",
              "width": 0.5
             },
             "pattern": {
              "fillmode": "overlay",
              "size": 10,
              "solidity": 0.2
             }
            },
            "type": "barpolar"
           }
          ],
          "carpet": [
           {
            "aaxis": {
             "endlinecolor": "#2a3f5f",
             "gridcolor": "#C8D4E3",
             "linecolor": "#C8D4E3",
             "minorgridcolor": "#C8D4E3",
             "startlinecolor": "#2a3f5f"
            },
            "baxis": {
             "endlinecolor": "#2a3f5f",
             "gridcolor": "#C8D4E3",
             "linecolor": "#C8D4E3",
             "minorgridcolor": "#C8D4E3",
             "startlinecolor": "#2a3f5f"
            },
            "type": "carpet"
           }
          ],
          "choropleth": [
           {
            "colorbar": {
             "outlinewidth": 0,
             "ticks": ""
            },
            "type": "choropleth"
           }
          ],
          "contour": [
           {
            "colorbar": {
             "outlinewidth": 0,
             "ticks": ""
            },
            "colorscale": [
             [
              0,
              "#0d0887"
             ],
             [
              0.1111111111111111,
              "#46039f"
             ],
             [
              0.2222222222222222,
              "#7201a8"
             ],
             [
              0.3333333333333333,
              "#9c179e"
             ],
             [
              0.4444444444444444,
              "#bd3786"
             ],
             [
              0.5555555555555556,
              "#d8576b"
             ],
             [
              0.6666666666666666,
              "#ed7953"
             ],
             [
              0.7777777777777778,
              "#fb9f3a"
             ],
             [
              0.8888888888888888,
              "#fdca26"
             ],
             [
              1,
              "#f0f921"
             ]
            ],
            "type": "contour"
           }
          ],
          "contourcarpet": [
           {
            "colorbar": {
             "outlinewidth": 0,
             "ticks": ""
            },
            "type": "contourcarpet"
           }
          ],
          "heatmap": [
           {
            "colorbar": {
             "outlinewidth": 0,
             "ticks": ""
            },
            "colorscale": [
             [
              0,
              "#0d0887"
             ],
             [
              0.1111111111111111,
              "#46039f"
             ],
             [
              0.2222222222222222,
              "#7201a8"
             ],
             [
              0.3333333333333333,
              "#9c179e"
             ],
             [
              0.4444444444444444,
              "#bd3786"
             ],
             [
              0.5555555555555556,
              "#d8576b"
             ],
             [
              0.6666666666666666,
              "#ed7953"
             ],
             [
              0.7777777777777778,
              "#fb9f3a"
             ],
             [
              0.8888888888888888,
              "#fdca26"
             ],
             [
              1,
              "#f0f921"
             ]
            ],
            "type": "heatmap"
           }
          ],
          "heatmapgl": [
           {
            "colorbar": {
             "outlinewidth": 0,
             "ticks": ""
            },
            "colorscale": [
             [
              0,
              "#0d0887"
             ],
             [
              0.1111111111111111,
              "#46039f"
             ],
             [
              0.2222222222222222,
              "#7201a8"
             ],
             [
              0.3333333333333333,
              "#9c179e"
             ],
             [
              0.4444444444444444,
              "#bd3786"
             ],
             [
              0.5555555555555556,
              "#d8576b"
             ],
             [
              0.6666666666666666,
              "#ed7953"
             ],
             [
              0.7777777777777778,
              "#fb9f3a"
             ],
             [
              0.8888888888888888,
              "#fdca26"
             ],
             [
              1,
              "#f0f921"
             ]
            ],
            "type": "heatmapgl"
           }
          ],
          "histogram": [
           {
            "marker": {
             "pattern": {
              "fillmode": "overlay",
              "size": 10,
              "solidity": 0.2
             }
            },
            "type": "histogram"
           }
          ],
          "histogram2d": [
           {
            "colorbar": {
             "outlinewidth": 0,
             "ticks": ""
            },
            "colorscale": [
             [
              0,
              "#0d0887"
             ],
             [
              0.1111111111111111,
              "#46039f"
             ],
             [
              0.2222222222222222,
              "#7201a8"
             ],
             [
              0.3333333333333333,
              "#9c179e"
             ],
             [
              0.4444444444444444,
              "#bd3786"
             ],
             [
              0.5555555555555556,
              "#d8576b"
             ],
             [
              0.6666666666666666,
              "#ed7953"
             ],
             [
              0.7777777777777778,
              "#fb9f3a"
             ],
             [
              0.8888888888888888,
              "#fdca26"
             ],
             [
              1,
              "#f0f921"
             ]
            ],
            "type": "histogram2d"
           }
          ],
          "histogram2dcontour": [
           {
            "colorbar": {
             "outlinewidth": 0,
             "ticks": ""
            },
            "colorscale": [
             [
              0,
              "#0d0887"
             ],
             [
              0.1111111111111111,
              "#46039f"
             ],
             [
              0.2222222222222222,
              "#7201a8"
             ],
             [
              0.3333333333333333,
              "#9c179e"
             ],
             [
              0.4444444444444444,
              "#bd3786"
             ],
             [
              0.5555555555555556,
              "#d8576b"
             ],
             [
              0.6666666666666666,
              "#ed7953"
             ],
             [
              0.7777777777777778,
              "#fb9f3a"
             ],
             [
              0.8888888888888888,
              "#fdca26"
             ],
             [
              1,
              "#f0f921"
             ]
            ],
            "type": "histogram2dcontour"
           }
          ],
          "mesh3d": [
           {
            "colorbar": {
             "outlinewidth": 0,
             "ticks": ""
            },
            "type": "mesh3d"
           }
          ],
          "parcoords": [
           {
            "line": {
             "colorbar": {
              "outlinewidth": 0,
              "ticks": ""
             }
            },
            "type": "parcoords"
           }
          ],
          "pie": [
           {
            "automargin": true,
            "type": "pie"
           }
          ],
          "scatter": [
           {
            "fillpattern": {
             "fillmode": "overlay",
             "size": 10,
             "solidity": 0.2
            },
            "type": "scatter"
           }
          ],
          "scatter3d": [
           {
            "line": {
             "colorbar": {
              "outlinewidth": 0,
              "ticks": ""
             }
            },
            "marker": {
             "colorbar": {
              "outlinewidth": 0,
              "ticks": ""
             }
            },
            "type": "scatter3d"
           }
          ],
          "scattercarpet": [
           {
            "marker": {
             "colorbar": {
              "outlinewidth": 0,
              "ticks": ""
             }
            },
            "type": "scattercarpet"
           }
          ],
          "scattergeo": [
           {
            "marker": {
             "colorbar": {
              "outlinewidth": 0,
              "ticks": ""
             }
            },
            "type": "scattergeo"
           }
          ],
          "scattergl": [
           {
            "marker": {
             "colorbar": {
              "outlinewidth": 0,
              "ticks": ""
             }
            },
            "type": "scattergl"
           }
          ],
          "scattermapbox": [
           {
            "marker": {
             "colorbar": {
              "outlinewidth": 0,
              "ticks": ""
             }
            },
            "type": "scattermapbox"
           }
          ],
          "scatterpolar": [
           {
            "marker": {
             "colorbar": {
              "outlinewidth": 0,
              "ticks": ""
             }
            },
            "type": "scatterpolar"
           }
          ],
          "scatterpolargl": [
           {
            "marker": {
             "colorbar": {
              "outlinewidth": 0,
              "ticks": ""
             }
            },
            "type": "scatterpolargl"
           }
          ],
          "scatterternary": [
           {
            "marker": {
             "colorbar": {
              "outlinewidth": 0,
              "ticks": ""
             }
            },
            "type": "scatterternary"
           }
          ],
          "surface": [
           {
            "colorbar": {
             "outlinewidth": 0,
             "ticks": ""
            },
            "colorscale": [
             [
              0,
              "#0d0887"
             ],
             [
              0.1111111111111111,
              "#46039f"
             ],
             [
              0.2222222222222222,
              "#7201a8"
             ],
             [
              0.3333333333333333,
              "#9c179e"
             ],
             [
              0.4444444444444444,
              "#bd3786"
             ],
             [
              0.5555555555555556,
              "#d8576b"
             ],
             [
              0.6666666666666666,
              "#ed7953"
             ],
             [
              0.7777777777777778,
              "#fb9f3a"
             ],
             [
              0.8888888888888888,
              "#fdca26"
             ],
             [
              1,
              "#f0f921"
             ]
            ],
            "type": "surface"
           }
          ],
          "table": [
           {
            "cells": {
             "fill": {
              "color": "#EBF0F8"
             },
             "line": {
              "color": "white"
             }
            },
            "header": {
             "fill": {
              "color": "#C8D4E3"
             },
             "line": {
              "color": "white"
             }
            },
            "type": "table"
           }
          ]
         },
         "layout": {
          "annotationdefaults": {
           "arrowcolor": "#2a3f5f",
           "arrowhead": 0,
           "arrowwidth": 1
          },
          "autotypenumbers": "strict",
          "coloraxis": {
           "colorbar": {
            "outlinewidth": 0,
            "ticks": ""
           }
          },
          "colorscale": {
           "diverging": [
            [
             0,
             "#8e0152"
            ],
            [
             0.1,
             "#c51b7d"
            ],
            [
             0.2,
             "#de77ae"
            ],
            [
             0.3,
             "#f1b6da"
            ],
            [
             0.4,
             "#fde0ef"
            ],
            [
             0.5,
             "#f7f7f7"
            ],
            [
             0.6,
             "#e6f5d0"
            ],
            [
             0.7,
             "#b8e186"
            ],
            [
             0.8,
             "#7fbc41"
            ],
            [
             0.9,
             "#4d9221"
            ],
            [
             1,
             "#276419"
            ]
           ],
           "sequential": [
            [
             0,
             "#0d0887"
            ],
            [
             0.1111111111111111,
             "#46039f"
            ],
            [
             0.2222222222222222,
             "#7201a8"
            ],
            [
             0.3333333333333333,
             "#9c179e"
            ],
            [
             0.4444444444444444,
             "#bd3786"
            ],
            [
             0.5555555555555556,
             "#d8576b"
            ],
            [
             0.6666666666666666,
             "#ed7953"
            ],
            [
             0.7777777777777778,
             "#fb9f3a"
            ],
            [
             0.8888888888888888,
             "#fdca26"
            ],
            [
             1,
             "#f0f921"
            ]
           ],
           "sequentialminus": [
            [
             0,
             "#0d0887"
            ],
            [
             0.1111111111111111,
             "#46039f"
            ],
            [
             0.2222222222222222,
             "#7201a8"
            ],
            [
             0.3333333333333333,
             "#9c179e"
            ],
            [
             0.4444444444444444,
             "#bd3786"
            ],
            [
             0.5555555555555556,
             "#d8576b"
            ],
            [
             0.6666666666666666,
             "#ed7953"
            ],
            [
             0.7777777777777778,
             "#fb9f3a"
            ],
            [
             0.8888888888888888,
             "#fdca26"
            ],
            [
             1,
             "#f0f921"
            ]
           ]
          },
          "colorway": [
           "#636efa",
           "#EF553B",
           "#00cc96",
           "#ab63fa",
           "#FFA15A",
           "#19d3f3",
           "#FF6692",
           "#B6E880",
           "#FF97FF",
           "#FECB52"
          ],
          "font": {
           "color": "#2a3f5f"
          },
          "geo": {
           "bgcolor": "white",
           "lakecolor": "white",
           "landcolor": "white",
           "showlakes": true,
           "showland": true,
           "subunitcolor": "#C8D4E3"
          },
          "hoverlabel": {
           "align": "left"
          },
          "hovermode": "closest",
          "mapbox": {
           "style": "light"
          },
          "paper_bgcolor": "white",
          "plot_bgcolor": "white",
          "polar": {
           "angularaxis": {
            "gridcolor": "#EBF0F8",
            "linecolor": "#EBF0F8",
            "ticks": ""
           },
           "bgcolor": "white",
           "radialaxis": {
            "gridcolor": "#EBF0F8",
            "linecolor": "#EBF0F8",
            "ticks": ""
           }
          },
          "scene": {
           "xaxis": {
            "backgroundcolor": "white",
            "gridcolor": "#DFE8F3",
            "gridwidth": 2,
            "linecolor": "#EBF0F8",
            "showbackground": true,
            "ticks": "",
            "zerolinecolor": "#EBF0F8"
           },
           "yaxis": {
            "backgroundcolor": "white",
            "gridcolor": "#DFE8F3",
            "gridwidth": 2,
            "linecolor": "#EBF0F8",
            "showbackground": true,
            "ticks": "",
            "zerolinecolor": "#EBF0F8"
           },
           "zaxis": {
            "backgroundcolor": "white",
            "gridcolor": "#DFE8F3",
            "gridwidth": 2,
            "linecolor": "#EBF0F8",
            "showbackground": true,
            "ticks": "",
            "zerolinecolor": "#EBF0F8"
           }
          },
          "shapedefaults": {
           "line": {
            "color": "#2a3f5f"
           }
          },
          "ternary": {
           "aaxis": {
            "gridcolor": "#DFE8F3",
            "linecolor": "#A2B1C6",
            "ticks": ""
           },
           "baxis": {
            "gridcolor": "#DFE8F3",
            "linecolor": "#A2B1C6",
            "ticks": ""
           },
           "bgcolor": "white",
           "caxis": {
            "gridcolor": "#DFE8F3",
            "linecolor": "#A2B1C6",
            "ticks": ""
           }
          },
          "title": {
           "x": 0.05
          },
          "xaxis": {
           "automargin": true,
           "gridcolor": "#EBF0F8",
           "linecolor": "#EBF0F8",
           "ticks": "",
           "title": {
            "standoff": 15
           },
           "zerolinecolor": "#EBF0F8",
           "zerolinewidth": 2
          },
          "yaxis": {
           "automargin": true,
           "gridcolor": "#EBF0F8",
           "linecolor": "#EBF0F8",
           "ticks": "",
           "title": {
            "standoff": 15
           },
           "zerolinecolor": "#EBF0F8",
           "zerolinewidth": 2
          }
         }
        },
        "title": {
         "text": "Number of Events Over Time for Top Product Categories"
        },
        "xaxis": {
         "title": {
          "text": "Date"
         }
        },
        "yaxis": {
         "title": {
          "text": "Count"
         }
        }
       }
      },
      "text/html": [
       "<div>                            <div id=\"987c5c2e-0eb4-47f5-8935-13c29e60c8ff\" class=\"plotly-graph-div\" style=\"height:525px; width:100%;\"></div>            <script type=\"text/javascript\">                require([\"plotly\"], function(Plotly) {                    window.PLOTLYENV=window.PLOTLYENV || {};                                    if (document.getElementById(\"987c5c2e-0eb4-47f5-8935-13c29e60c8ff\")) {                    Plotly.newPlot(                        \"987c5c2e-0eb4-47f5-8935-13c29e60c8ff\",                        [{\"mode\":\"lines\",\"name\":\"apparel\",\"x\":[\"2019-11-01T00:00:00\",\"2019-11-02T00:00:00\",\"2019-11-03T00:00:00\",\"2019-11-04T00:00:00\",\"2019-11-05T00:00:00\",\"2019-11-06T00:00:00\",\"2019-11-07T00:00:00\",\"2019-11-08T00:00:00\",\"2019-11-09T00:00:00\",\"2019-11-10T00:00:00\",\"2019-11-11T00:00:00\",\"2019-11-12T00:00:00\",\"2019-11-13T00:00:00\",\"2019-11-14T00:00:00\",\"2019-11-15T00:00:00\",\"2019-11-16T00:00:00\",\"2019-11-17T00:00:00\",\"2019-11-18T00:00:00\",\"2019-11-19T00:00:00\",\"2019-11-20T00:00:00\",\"2019-11-21T00:00:00\",\"2019-11-22T00:00:00\",\"2019-11-23T00:00:00\",\"2019-11-24T00:00:00\",\"2019-11-25T00:00:00\",\"2019-11-26T00:00:00\",\"2019-11-27T00:00:00\",\"2019-11-28T00:00:00\",\"2019-11-29T00:00:00\",\"2019-11-30T00:00:00\"],\"y\":[7100,7601,7724,9551,11374,11162,12427,13115,14304,13930,15269,15543,14031,23909,49954,78246,93750,19921,16020,16905,16395,16474,14271,13492,13069,15018,14080,11365,11487,10725],\"type\":\"scatter\"},{\"mode\":\"lines\",\"name\":\"appliances\",\"x\":[\"2019-11-01T00:00:00\",\"2019-11-02T00:00:00\",\"2019-11-03T00:00:00\",\"2019-11-04T00:00:00\",\"2019-11-05T00:00:00\",\"2019-11-06T00:00:00\",\"2019-11-07T00:00:00\",\"2019-11-08T00:00:00\",\"2019-11-09T00:00:00\",\"2019-11-10T00:00:00\",\"2019-11-11T00:00:00\",\"2019-11-12T00:00:00\",\"2019-11-13T00:00:00\",\"2019-11-14T00:00:00\",\"2019-11-15T00:00:00\",\"2019-11-16T00:00:00\",\"2019-11-17T00:00:00\",\"2019-11-18T00:00:00\",\"2019-11-19T00:00:00\",\"2019-11-20T00:00:00\",\"2019-11-21T00:00:00\",\"2019-11-22T00:00:00\",\"2019-11-23T00:00:00\",\"2019-11-24T00:00:00\",\"2019-11-25T00:00:00\",\"2019-11-26T00:00:00\",\"2019-11-27T00:00:00\",\"2019-11-28T00:00:00\",\"2019-11-29T00:00:00\",\"2019-11-30T00:00:00\"],\"y\":[27734,29858,31882,36205,34040,34057,35712,52442,50778,53565,52438,52177,50970,88589,218172,339811,528043,67725,50747,47686,45766,47786,48095,48336,43905,47305,45600,46545,60103,51057],\"type\":\"scatter\"},{\"mode\":\"lines\",\"name\":\"auto\",\"x\":[\"2019-11-01T00:00:00\",\"2019-11-02T00:00:00\",\"2019-11-03T00:00:00\",\"2019-11-04T00:00:00\",\"2019-11-05T00:00:00\",\"2019-11-06T00:00:00\",\"2019-11-07T00:00:00\",\"2019-11-08T00:00:00\",\"2019-11-09T00:00:00\",\"2019-11-10T00:00:00\",\"2019-11-11T00:00:00\",\"2019-11-12T00:00:00\",\"2019-11-13T00:00:00\",\"2019-11-14T00:00:00\",\"2019-11-15T00:00:00\",\"2019-11-16T00:00:00\",\"2019-11-17T00:00:00\",\"2019-11-18T00:00:00\",\"2019-11-19T00:00:00\",\"2019-11-20T00:00:00\",\"2019-11-21T00:00:00\",\"2019-11-22T00:00:00\",\"2019-11-23T00:00:00\",\"2019-11-24T00:00:00\",\"2019-11-25T00:00:00\",\"2019-11-26T00:00:00\",\"2019-11-27T00:00:00\",\"2019-11-28T00:00:00\",\"2019-11-29T00:00:00\",\"2019-11-30T00:00:00\"],\"y\":[3326,3607,3871,5098,4605,4571,5253,5908,5433,5631,7066,6476,6730,9522,21099,28874,43066,7947,6899,6834,6435,5577,5759,5131,4808,5268,5269,5762,5532,5059],\"type\":\"scatter\"},{\"mode\":\"lines\",\"name\":\"computers\",\"x\":[\"2019-11-01T00:00:00\",\"2019-11-02T00:00:00\",\"2019-11-03T00:00:00\",\"2019-11-04T00:00:00\",\"2019-11-05T00:00:00\",\"2019-11-06T00:00:00\",\"2019-11-07T00:00:00\",\"2019-11-08T00:00:00\",\"2019-11-09T00:00:00\",\"2019-11-10T00:00:00\",\"2019-11-11T00:00:00\",\"2019-11-12T00:00:00\",\"2019-11-13T00:00:00\",\"2019-11-14T00:00:00\",\"2019-11-15T00:00:00\",\"2019-11-16T00:00:00\",\"2019-11-17T00:00:00\",\"2019-11-18T00:00:00\",\"2019-11-19T00:00:00\",\"2019-11-20T00:00:00\",\"2019-11-21T00:00:00\",\"2019-11-22T00:00:00\",\"2019-11-23T00:00:00\",\"2019-11-24T00:00:00\",\"2019-11-25T00:00:00\",\"2019-11-26T00:00:00\",\"2019-11-27T00:00:00\",\"2019-11-28T00:00:00\",\"2019-11-29T00:00:00\",\"2019-11-30T00:00:00\"],\"y\":[15668,17014,17957,18990,21080,20769,20690,26515,26438,26597,26974,26584,28751,54728,111150,140766,170966,31518,26149,24012,22828,20782,21576,20865,20744,23182,22983,23532,29361,25333],\"type\":\"scatter\"},{\"mode\":\"lines\",\"name\":\"electronics\",\"x\":[\"2019-11-01T00:00:00\",\"2019-11-02T00:00:00\",\"2019-11-03T00:00:00\",\"2019-11-04T00:00:00\",\"2019-11-05T00:00:00\",\"2019-11-06T00:00:00\",\"2019-11-07T00:00:00\",\"2019-11-08T00:00:00\",\"2019-11-09T00:00:00\",\"2019-11-10T00:00:00\",\"2019-11-11T00:00:00\",\"2019-11-12T00:00:00\",\"2019-11-13T00:00:00\",\"2019-11-14T00:00:00\",\"2019-11-15T00:00:00\",\"2019-11-16T00:00:00\",\"2019-11-17T00:00:00\",\"2019-11-18T00:00:00\",\"2019-11-19T00:00:00\",\"2019-11-20T00:00:00\",\"2019-11-21T00:00:00\",\"2019-11-22T00:00:00\",\"2019-11-23T00:00:00\",\"2019-11-24T00:00:00\",\"2019-11-25T00:00:00\",\"2019-11-26T00:00:00\",\"2019-11-27T00:00:00\",\"2019-11-28T00:00:00\",\"2019-11-29T00:00:00\",\"2019-11-30T00:00:00\"],\"y\":[135341,139027,144748,162558,150734,151583,152676,190721,179024,180834,188272,186315,192818,314331,565484,789744,1035066,244441,198139,185694,177267,172514,169702,175908,171293,173454,175653,179761,221863,186542],\"type\":\"scatter\"}],                        {\"template\":{\"data\":{\"barpolar\":[{\"marker\":{\"line\":{\"color\":\"white\",\"width\":0.5},\"pattern\":{\"fillmode\":\"overlay\",\"size\":10,\"solidity\":0.2}},\"type\":\"barpolar\"}],\"bar\":[{\"error_x\":{\"color\":\"#2a3f5f\"},\"error_y\":{\"color\":\"#2a3f5f\"},\"marker\":{\"line\":{\"color\":\"white\",\"width\":0.5},\"pattern\":{\"fillmode\":\"overlay\",\"size\":10,\"solidity\":0.2}},\"type\":\"bar\"}],\"carpet\":[{\"aaxis\":{\"endlinecolor\":\"#2a3f5f\",\"gridcolor\":\"#C8D4E3\",\"linecolor\":\"#C8D4E3\",\"minorgridcolor\":\"#C8D4E3\",\"startlinecolor\":\"#2a3f5f\"},\"baxis\":{\"endlinecolor\":\"#2a3f5f\",\"gridcolor\":\"#C8D4E3\",\"linecolor\":\"#C8D4E3\",\"minorgridcolor\":\"#C8D4E3\",\"startlinecolor\":\"#2a3f5f\"},\"type\":\"carpet\"}],\"choropleth\":[{\"colorbar\":{\"outlinewidth\":0,\"ticks\":\"\"},\"type\":\"choropleth\"}],\"contourcarpet\":[{\"colorbar\":{\"outlinewidth\":0,\"ticks\":\"\"},\"type\":\"contourcarpet\"}],\"contour\":[{\"colorbar\":{\"outlinewidth\":0,\"ticks\":\"\"},\"colorscale\":[[0.0,\"#0d0887\"],[0.1111111111111111,\"#46039f\"],[0.2222222222222222,\"#7201a8\"],[0.3333333333333333,\"#9c179e\"],[0.4444444444444444,\"#bd3786\"],[0.5555555555555556,\"#d8576b\"],[0.6666666666666666,\"#ed7953\"],[0.7777777777777778,\"#fb9f3a\"],[0.8888888888888888,\"#fdca26\"],[1.0,\"#f0f921\"]],\"type\":\"contour\"}],\"heatmapgl\":[{\"colorbar\":{\"outlinewidth\":0,\"ticks\":\"\"},\"colorscale\":[[0.0,\"#0d0887\"],[0.1111111111111111,\"#46039f\"],[0.2222222222222222,\"#7201a8\"],[0.3333333333333333,\"#9c179e\"],[0.4444444444444444,\"#bd3786\"],[0.5555555555555556,\"#d8576b\"],[0.6666666666666666,\"#ed7953\"],[0.7777777777777778,\"#fb9f3a\"],[0.8888888888888888,\"#fdca26\"],[1.0,\"#f0f921\"]],\"type\":\"heatmapgl\"}],\"heatmap\":[{\"colorbar\":{\"outlinewidth\":0,\"ticks\":\"\"},\"colorscale\":[[0.0,\"#0d0887\"],[0.1111111111111111,\"#46039f\"],[0.2222222222222222,\"#7201a8\"],[0.3333333333333333,\"#9c179e\"],[0.4444444444444444,\"#bd3786\"],[0.5555555555555556,\"#d8576b\"],[0.6666666666666666,\"#ed7953\"],[0.7777777777777778,\"#fb9f3a\"],[0.8888888888888888,\"#fdca26\"],[1.0,\"#f0f921\"]],\"type\":\"heatmap\"}],\"histogram2dcontour\":[{\"colorbar\":{\"outlinewidth\":0,\"ticks\":\"\"},\"colorscale\":[[0.0,\"#0d0887\"],[0.1111111111111111,\"#46039f\"],[0.2222222222222222,\"#7201a8\"],[0.3333333333333333,\"#9c179e\"],[0.4444444444444444,\"#bd3786\"],[0.5555555555555556,\"#d8576b\"],[0.6666666666666666,\"#ed7953\"],[0.7777777777777778,\"#fb9f3a\"],[0.8888888888888888,\"#fdca26\"],[1.0,\"#f0f921\"]],\"type\":\"histogram2dcontour\"}],\"histogram2d\":[{\"colorbar\":{\"outlinewidth\":0,\"ticks\":\"\"},\"colorscale\":[[0.0,\"#0d0887\"],[0.1111111111111111,\"#46039f\"],[0.2222222222222222,\"#7201a8\"],[0.3333333333333333,\"#9c179e\"],[0.4444444444444444,\"#bd3786\"],[0.5555555555555556,\"#d8576b\"],[0.6666666666666666,\"#ed7953\"],[0.7777777777777778,\"#fb9f3a\"],[0.8888888888888888,\"#fdca26\"],[1.0,\"#f0f921\"]],\"type\":\"histogram2d\"}],\"histogram\":[{\"marker\":{\"pattern\":{\"fillmode\":\"overlay\",\"size\":10,\"solidity\":0.2}},\"type\":\"histogram\"}],\"mesh3d\":[{\"colorbar\":{\"outlinewidth\":0,\"ticks\":\"\"},\"type\":\"mesh3d\"}],\"parcoords\":[{\"line\":{\"colorbar\":{\"outlinewidth\":0,\"ticks\":\"\"}},\"type\":\"parcoords\"}],\"pie\":[{\"automargin\":true,\"type\":\"pie\"}],\"scatter3d\":[{\"line\":{\"colorbar\":{\"outlinewidth\":0,\"ticks\":\"\"}},\"marker\":{\"colorbar\":{\"outlinewidth\":0,\"ticks\":\"\"}},\"type\":\"scatter3d\"}],\"scattercarpet\":[{\"marker\":{\"colorbar\":{\"outlinewidth\":0,\"ticks\":\"\"}},\"type\":\"scattercarpet\"}],\"scattergeo\":[{\"marker\":{\"colorbar\":{\"outlinewidth\":0,\"ticks\":\"\"}},\"type\":\"scattergeo\"}],\"scattergl\":[{\"marker\":{\"colorbar\":{\"outlinewidth\":0,\"ticks\":\"\"}},\"type\":\"scattergl\"}],\"scattermapbox\":[{\"marker\":{\"colorbar\":{\"outlinewidth\":0,\"ticks\":\"\"}},\"type\":\"scattermapbox\"}],\"scatterpolargl\":[{\"marker\":{\"colorbar\":{\"outlinewidth\":0,\"ticks\":\"\"}},\"type\":\"scatterpolargl\"}],\"scatterpolar\":[{\"marker\":{\"colorbar\":{\"outlinewidth\":0,\"ticks\":\"\"}},\"type\":\"scatterpolar\"}],\"scatter\":[{\"fillpattern\":{\"fillmode\":\"overlay\",\"size\":10,\"solidity\":0.2},\"type\":\"scatter\"}],\"scatterternary\":[{\"marker\":{\"colorbar\":{\"outlinewidth\":0,\"ticks\":\"\"}},\"type\":\"scatterternary\"}],\"surface\":[{\"colorbar\":{\"outlinewidth\":0,\"ticks\":\"\"},\"colorscale\":[[0.0,\"#0d0887\"],[0.1111111111111111,\"#46039f\"],[0.2222222222222222,\"#7201a8\"],[0.3333333333333333,\"#9c179e\"],[0.4444444444444444,\"#bd3786\"],[0.5555555555555556,\"#d8576b\"],[0.6666666666666666,\"#ed7953\"],[0.7777777777777778,\"#fb9f3a\"],[0.8888888888888888,\"#fdca26\"],[1.0,\"#f0f921\"]],\"type\":\"surface\"}],\"table\":[{\"cells\":{\"fill\":{\"color\":\"#EBF0F8\"},\"line\":{\"color\":\"white\"}},\"header\":{\"fill\":{\"color\":\"#C8D4E3\"},\"line\":{\"color\":\"white\"}},\"type\":\"table\"}]},\"layout\":{\"annotationdefaults\":{\"arrowcolor\":\"#2a3f5f\",\"arrowhead\":0,\"arrowwidth\":1},\"autotypenumbers\":\"strict\",\"coloraxis\":{\"colorbar\":{\"outlinewidth\":0,\"ticks\":\"\"}},\"colorscale\":{\"diverging\":[[0,\"#8e0152\"],[0.1,\"#c51b7d\"],[0.2,\"#de77ae\"],[0.3,\"#f1b6da\"],[0.4,\"#fde0ef\"],[0.5,\"#f7f7f7\"],[0.6,\"#e6f5d0\"],[0.7,\"#b8e186\"],[0.8,\"#7fbc41\"],[0.9,\"#4d9221\"],[1,\"#276419\"]],\"sequential\":[[0.0,\"#0d0887\"],[0.1111111111111111,\"#46039f\"],[0.2222222222222222,\"#7201a8\"],[0.3333333333333333,\"#9c179e\"],[0.4444444444444444,\"#bd3786\"],[0.5555555555555556,\"#d8576b\"],[0.6666666666666666,\"#ed7953\"],[0.7777777777777778,\"#fb9f3a\"],[0.8888888888888888,\"#fdca26\"],[1.0,\"#f0f921\"]],\"sequentialminus\":[[0.0,\"#0d0887\"],[0.1111111111111111,\"#46039f\"],[0.2222222222222222,\"#7201a8\"],[0.3333333333333333,\"#9c179e\"],[0.4444444444444444,\"#bd3786\"],[0.5555555555555556,\"#d8576b\"],[0.6666666666666666,\"#ed7953\"],[0.7777777777777778,\"#fb9f3a\"],[0.8888888888888888,\"#fdca26\"],[1.0,\"#f0f921\"]]},\"colorway\":[\"#636efa\",\"#EF553B\",\"#00cc96\",\"#ab63fa\",\"#FFA15A\",\"#19d3f3\",\"#FF6692\",\"#B6E880\",\"#FF97FF\",\"#FECB52\"],\"font\":{\"color\":\"#2a3f5f\"},\"geo\":{\"bgcolor\":\"white\",\"lakecolor\":\"white\",\"landcolor\":\"white\",\"showlakes\":true,\"showland\":true,\"subunitcolor\":\"#C8D4E3\"},\"hoverlabel\":{\"align\":\"left\"},\"hovermode\":\"closest\",\"mapbox\":{\"style\":\"light\"},\"paper_bgcolor\":\"white\",\"plot_bgcolor\":\"white\",\"polar\":{\"angularaxis\":{\"gridcolor\":\"#EBF0F8\",\"linecolor\":\"#EBF0F8\",\"ticks\":\"\"},\"bgcolor\":\"white\",\"radialaxis\":{\"gridcolor\":\"#EBF0F8\",\"linecolor\":\"#EBF0F8\",\"ticks\":\"\"}},\"scene\":{\"xaxis\":{\"backgroundcolor\":\"white\",\"gridcolor\":\"#DFE8F3\",\"gridwidth\":2,\"linecolor\":\"#EBF0F8\",\"showbackground\":true,\"ticks\":\"\",\"zerolinecolor\":\"#EBF0F8\"},\"yaxis\":{\"backgroundcolor\":\"white\",\"gridcolor\":\"#DFE8F3\",\"gridwidth\":2,\"linecolor\":\"#EBF0F8\",\"showbackground\":true,\"ticks\":\"\",\"zerolinecolor\":\"#EBF0F8\"},\"zaxis\":{\"backgroundcolor\":\"white\",\"gridcolor\":\"#DFE8F3\",\"gridwidth\":2,\"linecolor\":\"#EBF0F8\",\"showbackground\":true,\"ticks\":\"\",\"zerolinecolor\":\"#EBF0F8\"}},\"shapedefaults\":{\"line\":{\"color\":\"#2a3f5f\"}},\"ternary\":{\"aaxis\":{\"gridcolor\":\"#DFE8F3\",\"linecolor\":\"#A2B1C6\",\"ticks\":\"\"},\"baxis\":{\"gridcolor\":\"#DFE8F3\",\"linecolor\":\"#A2B1C6\",\"ticks\":\"\"},\"bgcolor\":\"white\",\"caxis\":{\"gridcolor\":\"#DFE8F3\",\"linecolor\":\"#A2B1C6\",\"ticks\":\"\"}},\"title\":{\"x\":0.05},\"xaxis\":{\"automargin\":true,\"gridcolor\":\"#EBF0F8\",\"linecolor\":\"#EBF0F8\",\"ticks\":\"\",\"title\":{\"standoff\":15},\"zerolinecolor\":\"#EBF0F8\",\"zerolinewidth\":2},\"yaxis\":{\"automargin\":true,\"gridcolor\":\"#EBF0F8\",\"linecolor\":\"#EBF0F8\",\"ticks\":\"\",\"title\":{\"standoff\":15},\"zerolinecolor\":\"#EBF0F8\",\"zerolinewidth\":2}}},\"title\":{\"text\":\"Number of Events Over Time for Top Product Categories\"},\"xaxis\":{\"title\":{\"text\":\"Date\"}},\"yaxis\":{\"title\":{\"text\":\"Count\"}}},                        {\"responsive\": true}                    ).then(function(){\n",
       "                            \n",
       "var gd = document.getElementById('987c5c2e-0eb4-47f5-8935-13c29e60c8ff');\n",
       "var x = new MutationObserver(function (mutations, observer) {{\n",
       "        var display = window.getComputedStyle(gd).display;\n",
       "        if (!display || display === 'none') {{\n",
       "            console.log([gd, 'removed!']);\n",
       "            Plotly.purge(gd);\n",
       "            observer.disconnect();\n",
       "        }}\n",
       "}});\n",
       "\n",
       "// Listen for the removal of the full notebook cells\n",
       "var notebookContainer = gd.closest('#notebook-container');\n",
       "if (notebookContainer) {{\n",
       "    x.observe(notebookContainer, {childList: true});\n",
       "}}\n",
       "\n",
       "// Listen for the clearing of the current output cell\n",
       "var outputEl = gd.closest('.output');\n",
       "if (outputEl) {{\n",
       "    x.observe(outputEl, {childList: true});\n",
       "}}\n",
       "\n",
       "                        })                };                });            </script>        </div>"
      ]
     },
     "metadata": {},
     "output_type": "display_data"
    }
   ],
   "source": [
    "# Create a Plotly figure object\n",
    "fig = go.Figure()\n",
    "\n",
    "# Iterate over each top category\n",
    "for category in categories:\n",
    "    # Filter the dataframe for the current category\n",
    "    category_df = df[df['product_category'] == category]\n",
    "    \n",
    "    # Group data by 'date' and count occurrences\n",
    "    date_counts = category_df.groupby('date').size()\n",
    "    \n",
    "    # Add trace for the current category\n",
    "    fig.add_trace(go.Scatter(x=date_counts.index, y=date_counts.values, mode='lines', name=category))\n",
    "\n",
    "# Update layout\n",
    "fig.update_layout(title='Number of Events Over Time for Top Product Categories',\n",
    "                  xaxis_title='Date',\n",
    "                  yaxis_title='Count',\n",
    "                  template='plotly_white')  # Set plot theme\n",
    "\n",
    "# Show plot\n",
    "fig.show()"
   ]
  },
  {
   "cell_type": "markdown",
   "id": "fb09df1a",
   "metadata": {},
   "source": [
    "## Collaborative Filtering Based Recommender System"
   ]
  },
  {
   "cell_type": "code",
   "execution_count": 4,
   "id": "2e63bc6d",
   "metadata": {},
   "outputs": [],
   "source": [
    "df = pd.read_csv('filterwithcluster.csv')"
   ]
  },
  {
   "cell_type": "code",
   "execution_count": 84,
   "id": "281fa413",
   "metadata": {},
   "outputs": [],
   "source": [
    "selected_cluster = 0\n",
    "\n",
    "# Filter the DataFrame for the selected cluster\n",
    "ratings_df = df[df['cluster'] == selected_cluster][['event_type', 'product_id', 'category_id', 'category_code', 'brand', 'user_id', 'event_weightage', 'product_category', 'user_purchase', 'cluster']]"
   ]
  },
  {
   "cell_type": "code",
   "execution_count": 85,
   "id": "c98b2f5b",
   "metadata": {},
   "outputs": [],
   "source": [
    "ratings_df.rename(columns={'event_weightage': 'user_rating'}, inplace=True)"
   ]
  },
  {
   "cell_type": "code",
   "execution_count": 86,
   "id": "d0177b4c",
   "metadata": {},
   "outputs": [
    {
     "data": {
      "text/html": [
       "<div>\n",
       "<style scoped>\n",
       "    .dataframe tbody tr th:only-of-type {\n",
       "        vertical-align: middle;\n",
       "    }\n",
       "\n",
       "    .dataframe tbody tr th {\n",
       "        vertical-align: top;\n",
       "    }\n",
       "\n",
       "    .dataframe thead th {\n",
       "        text-align: right;\n",
       "    }\n",
       "</style>\n",
       "<table border=\"1\" class=\"dataframe\">\n",
       "  <thead>\n",
       "    <tr style=\"text-align: right;\">\n",
       "      <th></th>\n",
       "      <th>event_type</th>\n",
       "      <th>product_id</th>\n",
       "      <th>category_id</th>\n",
       "      <th>category_code</th>\n",
       "      <th>brand</th>\n",
       "      <th>user_id</th>\n",
       "      <th>user_rating</th>\n",
       "      <th>product_category</th>\n",
       "      <th>user_purchase</th>\n",
       "      <th>cluster</th>\n",
       "    </tr>\n",
       "  </thead>\n",
       "  <tbody>\n",
       "    <tr>\n",
       "      <th>21</th>\n",
       "      <td>view</td>\n",
       "      <td>1005115</td>\n",
       "      <td>2053013555631882655</td>\n",
       "      <td>electronics.smartphone</td>\n",
       "      <td>apple</td>\n",
       "      <td>565865924</td>\n",
       "      <td>1</td>\n",
       "      <td>electronics</td>\n",
       "      <td>0</td>\n",
       "      <td>0</td>\n",
       "    </tr>\n",
       "    <tr>\n",
       "      <th>25</th>\n",
       "      <td>cart</td>\n",
       "      <td>1005115</td>\n",
       "      <td>2053013555631882655</td>\n",
       "      <td>electronics.smartphone</td>\n",
       "      <td>apple</td>\n",
       "      <td>565865924</td>\n",
       "      <td>8</td>\n",
       "      <td>electronics</td>\n",
       "      <td>0</td>\n",
       "      <td>0</td>\n",
       "    </tr>\n",
       "    <tr>\n",
       "      <th>57</th>\n",
       "      <td>view</td>\n",
       "      <td>1004856</td>\n",
       "      <td>2053013555631882655</td>\n",
       "      <td>electronics.smartphone</td>\n",
       "      <td>samsung</td>\n",
       "      <td>513645631</td>\n",
       "      <td>1</td>\n",
       "      <td>electronics</td>\n",
       "      <td>0</td>\n",
       "      <td>0</td>\n",
       "    </tr>\n",
       "    <tr>\n",
       "      <th>64</th>\n",
       "      <td>cart</td>\n",
       "      <td>1004856</td>\n",
       "      <td>2053013555631882655</td>\n",
       "      <td>electronics.smartphone</td>\n",
       "      <td>samsung</td>\n",
       "      <td>513645631</td>\n",
       "      <td>8</td>\n",
       "      <td>electronics</td>\n",
       "      <td>0</td>\n",
       "      <td>0</td>\n",
       "    </tr>\n",
       "    <tr>\n",
       "      <th>66</th>\n",
       "      <td>cart</td>\n",
       "      <td>1004856</td>\n",
       "      <td>2053013555631882655</td>\n",
       "      <td>electronics.smartphone</td>\n",
       "      <td>samsung</td>\n",
       "      <td>513645631</td>\n",
       "      <td>8</td>\n",
       "      <td>electronics</td>\n",
       "      <td>0</td>\n",
       "      <td>0</td>\n",
       "    </tr>\n",
       "  </tbody>\n",
       "</table>\n",
       "</div>"
      ],
      "text/plain": [
       "   event_type  product_id          category_id           category_code  \\\n",
       "21       view     1005115  2053013555631882655  electronics.smartphone   \n",
       "25       cart     1005115  2053013555631882655  electronics.smartphone   \n",
       "57       view     1004856  2053013555631882655  electronics.smartphone   \n",
       "64       cart     1004856  2053013555631882655  electronics.smartphone   \n",
       "66       cart     1004856  2053013555631882655  electronics.smartphone   \n",
       "\n",
       "      brand    user_id  user_rating product_category  user_purchase  cluster  \n",
       "21    apple  565865924            1      electronics              0        0  \n",
       "25    apple  565865924            8      electronics              0        0  \n",
       "57  samsung  513645631            1      electronics              0        0  \n",
       "64  samsung  513645631            8      electronics              0        0  \n",
       "66  samsung  513645631            8      electronics              0        0  "
      ]
     },
     "execution_count": 86,
     "metadata": {},
     "output_type": "execute_result"
    }
   ],
   "source": [
    "ratings_df.head()"
   ]
  },
  {
   "cell_type": "markdown",
   "id": "10ab24a6",
   "metadata": {},
   "source": [
    "#### Filtering User and products\n",
    "User will be chosen only those who have purchased the product.\n",
    "Product will be only those who were either put in cart or purchased, we are not interested in view products."
   ]
  },
  {
   "cell_type": "code",
   "execution_count": 87,
   "id": "00cb0bf7",
   "metadata": {},
   "outputs": [],
   "source": [
    "## For user selction will select only those users who have made purchase"
   ]
  },
  {
   "cell_type": "code",
   "execution_count": 88,
   "id": "d03722bb",
   "metadata": {},
   "outputs": [],
   "source": [
    "purchase_users = df[df['user_purchase'] == 1]\n",
    "\n",
    "# Filter the original dataframe based on selected 'user_id'\n",
    "filtered_data = ratings_df[ratings_df['user_id'].isin(purchase_users['user_id'])]"
   ]
  },
  {
   "cell_type": "code",
   "execution_count": 89,
   "id": "291ac359",
   "metadata": {},
   "outputs": [
    {
     "data": {
      "text/html": [
       "<div>\n",
       "<style scoped>\n",
       "    .dataframe tbody tr th:only-of-type {\n",
       "        vertical-align: middle;\n",
       "    }\n",
       "\n",
       "    .dataframe tbody tr th {\n",
       "        vertical-align: top;\n",
       "    }\n",
       "\n",
       "    .dataframe thead th {\n",
       "        text-align: right;\n",
       "    }\n",
       "</style>\n",
       "<table border=\"1\" class=\"dataframe\">\n",
       "  <thead>\n",
       "    <tr style=\"text-align: right;\">\n",
       "      <th></th>\n",
       "      <th>event_type</th>\n",
       "      <th>product_id</th>\n",
       "      <th>category_id</th>\n",
       "      <th>category_code</th>\n",
       "      <th>brand</th>\n",
       "      <th>user_id</th>\n",
       "      <th>user_rating</th>\n",
       "      <th>product_category</th>\n",
       "      <th>user_purchase</th>\n",
       "      <th>cluster</th>\n",
       "    </tr>\n",
       "  </thead>\n",
       "  <tbody>\n",
       "    <tr>\n",
       "      <th>21</th>\n",
       "      <td>view</td>\n",
       "      <td>1005115</td>\n",
       "      <td>2053013555631882655</td>\n",
       "      <td>electronics.smartphone</td>\n",
       "      <td>apple</td>\n",
       "      <td>565865924</td>\n",
       "      <td>1</td>\n",
       "      <td>electronics</td>\n",
       "      <td>0</td>\n",
       "      <td>0</td>\n",
       "    </tr>\n",
       "    <tr>\n",
       "      <th>25</th>\n",
       "      <td>cart</td>\n",
       "      <td>1005115</td>\n",
       "      <td>2053013555631882655</td>\n",
       "      <td>electronics.smartphone</td>\n",
       "      <td>apple</td>\n",
       "      <td>565865924</td>\n",
       "      <td>8</td>\n",
       "      <td>electronics</td>\n",
       "      <td>0</td>\n",
       "      <td>0</td>\n",
       "    </tr>\n",
       "    <tr>\n",
       "      <th>57</th>\n",
       "      <td>view</td>\n",
       "      <td>1004856</td>\n",
       "      <td>2053013555631882655</td>\n",
       "      <td>electronics.smartphone</td>\n",
       "      <td>samsung</td>\n",
       "      <td>513645631</td>\n",
       "      <td>1</td>\n",
       "      <td>electronics</td>\n",
       "      <td>0</td>\n",
       "      <td>0</td>\n",
       "    </tr>\n",
       "    <tr>\n",
       "      <th>64</th>\n",
       "      <td>cart</td>\n",
       "      <td>1004856</td>\n",
       "      <td>2053013555631882655</td>\n",
       "      <td>electronics.smartphone</td>\n",
       "      <td>samsung</td>\n",
       "      <td>513645631</td>\n",
       "      <td>8</td>\n",
       "      <td>electronics</td>\n",
       "      <td>0</td>\n",
       "      <td>0</td>\n",
       "    </tr>\n",
       "    <tr>\n",
       "      <th>66</th>\n",
       "      <td>cart</td>\n",
       "      <td>1004856</td>\n",
       "      <td>2053013555631882655</td>\n",
       "      <td>electronics.smartphone</td>\n",
       "      <td>samsung</td>\n",
       "      <td>513645631</td>\n",
       "      <td>8</td>\n",
       "      <td>electronics</td>\n",
       "      <td>0</td>\n",
       "      <td>0</td>\n",
       "    </tr>\n",
       "  </tbody>\n",
       "</table>\n",
       "</div>"
      ],
      "text/plain": [
       "   event_type  product_id          category_id           category_code  \\\n",
       "21       view     1005115  2053013555631882655  electronics.smartphone   \n",
       "25       cart     1005115  2053013555631882655  electronics.smartphone   \n",
       "57       view     1004856  2053013555631882655  electronics.smartphone   \n",
       "64       cart     1004856  2053013555631882655  electronics.smartphone   \n",
       "66       cart     1004856  2053013555631882655  electronics.smartphone   \n",
       "\n",
       "      brand    user_id  user_rating product_category  user_purchase  cluster  \n",
       "21    apple  565865924            1      electronics              0        0  \n",
       "25    apple  565865924            8      electronics              0        0  \n",
       "57  samsung  513645631            1      electronics              0        0  \n",
       "64  samsung  513645631            8      electronics              0        0  \n",
       "66  samsung  513645631            8      electronics              0        0  "
      ]
     },
     "execution_count": 89,
     "metadata": {},
     "output_type": "execute_result"
    }
   ],
   "source": [
    "filtered_data.head()"
   ]
  },
  {
   "cell_type": "code",
   "execution_count": 90,
   "id": "4345cd4e",
   "metadata": {},
   "outputs": [],
   "source": [
    "ratings_df = filtered_data"
   ]
  },
  {
   "cell_type": "markdown",
   "id": "21361fed",
   "metadata": {},
   "source": [
    "Will format the ratings matrix to be one row per user and one column per product. \n",
    "I'll pivot ratings_df to get that and call the new variable R."
   ]
  },
  {
   "cell_type": "code",
   "execution_count": 91,
   "id": "2c93ea35",
   "metadata": {},
   "outputs": [],
   "source": [
    "R_df = ratings_df.groupby(['product_id', 'user_id'])['user_rating'].mean().unstack(fill_value=0)"
   ]
  },
  {
   "cell_type": "code",
   "execution_count": 92,
   "id": "d04a6314",
   "metadata": {},
   "outputs": [
    {
     "data": {
      "text/html": [
       "<div>\n",
       "<style scoped>\n",
       "    .dataframe tbody tr th:only-of-type {\n",
       "        vertical-align: middle;\n",
       "    }\n",
       "\n",
       "    .dataframe tbody tr th {\n",
       "        vertical-align: top;\n",
       "    }\n",
       "\n",
       "    .dataframe thead th {\n",
       "        text-align: right;\n",
       "    }\n",
       "</style>\n",
       "<table border=\"1\" class=\"dataframe\">\n",
       "  <thead>\n",
       "    <tr style=\"text-align: right;\">\n",
       "      <th>user_id</th>\n",
       "      <th>304707635</th>\n",
       "      <th>419697235</th>\n",
       "      <th>448984650</th>\n",
       "      <th>452701324</th>\n",
       "      <th>464610644</th>\n",
       "      <th>472657655</th>\n",
       "      <th>478122650</th>\n",
       "      <th>478849730</th>\n",
       "      <th>479233261</th>\n",
       "      <th>485760463</th>\n",
       "      <th>...</th>\n",
       "      <th>579897090</th>\n",
       "      <th>579914596</th>\n",
       "      <th>579915659</th>\n",
       "      <th>579915961</th>\n",
       "      <th>579922035</th>\n",
       "      <th>579925652</th>\n",
       "      <th>579932020</th>\n",
       "      <th>579935169</th>\n",
       "      <th>579942312</th>\n",
       "      <th>579953265</th>\n",
       "    </tr>\n",
       "    <tr>\n",
       "      <th>product_id</th>\n",
       "      <th></th>\n",
       "      <th></th>\n",
       "      <th></th>\n",
       "      <th></th>\n",
       "      <th></th>\n",
       "      <th></th>\n",
       "      <th></th>\n",
       "      <th></th>\n",
       "      <th></th>\n",
       "      <th></th>\n",
       "      <th></th>\n",
       "      <th></th>\n",
       "      <th></th>\n",
       "      <th></th>\n",
       "      <th></th>\n",
       "      <th></th>\n",
       "      <th></th>\n",
       "      <th></th>\n",
       "      <th></th>\n",
       "      <th></th>\n",
       "      <th></th>\n",
       "    </tr>\n",
       "  </thead>\n",
       "  <tbody>\n",
       "    <tr>\n",
       "      <th>1000978</th>\n",
       "      <td>0.0</td>\n",
       "      <td>0.0</td>\n",
       "      <td>0.0</td>\n",
       "      <td>0.0</td>\n",
       "      <td>0.0</td>\n",
       "      <td>0.0</td>\n",
       "      <td>0.0</td>\n",
       "      <td>0.0</td>\n",
       "      <td>0.0</td>\n",
       "      <td>0.0</td>\n",
       "      <td>...</td>\n",
       "      <td>0.0</td>\n",
       "      <td>0.0</td>\n",
       "      <td>0.0</td>\n",
       "      <td>0.0</td>\n",
       "      <td>0.0</td>\n",
       "      <td>0.0</td>\n",
       "      <td>0.0</td>\n",
       "      <td>0.0</td>\n",
       "      <td>0.0</td>\n",
       "      <td>0.0</td>\n",
       "    </tr>\n",
       "    <tr>\n",
       "      <th>1001588</th>\n",
       "      <td>0.0</td>\n",
       "      <td>0.0</td>\n",
       "      <td>0.0</td>\n",
       "      <td>0.0</td>\n",
       "      <td>0.0</td>\n",
       "      <td>0.0</td>\n",
       "      <td>0.0</td>\n",
       "      <td>0.0</td>\n",
       "      <td>0.0</td>\n",
       "      <td>0.0</td>\n",
       "      <td>...</td>\n",
       "      <td>0.0</td>\n",
       "      <td>0.0</td>\n",
       "      <td>0.0</td>\n",
       "      <td>0.0</td>\n",
       "      <td>0.0</td>\n",
       "      <td>0.0</td>\n",
       "      <td>0.0</td>\n",
       "      <td>0.0</td>\n",
       "      <td>0.0</td>\n",
       "      <td>0.0</td>\n",
       "    </tr>\n",
       "    <tr>\n",
       "      <th>1001618</th>\n",
       "      <td>0.0</td>\n",
       "      <td>0.0</td>\n",
       "      <td>0.0</td>\n",
       "      <td>0.0</td>\n",
       "      <td>0.0</td>\n",
       "      <td>0.0</td>\n",
       "      <td>0.0</td>\n",
       "      <td>0.0</td>\n",
       "      <td>0.0</td>\n",
       "      <td>0.0</td>\n",
       "      <td>...</td>\n",
       "      <td>0.0</td>\n",
       "      <td>0.0</td>\n",
       "      <td>0.0</td>\n",
       "      <td>0.0</td>\n",
       "      <td>0.0</td>\n",
       "      <td>0.0</td>\n",
       "      <td>0.0</td>\n",
       "      <td>0.0</td>\n",
       "      <td>0.0</td>\n",
       "      <td>0.0</td>\n",
       "    </tr>\n",
       "    <tr>\n",
       "      <th>1001619</th>\n",
       "      <td>0.0</td>\n",
       "      <td>0.0</td>\n",
       "      <td>0.0</td>\n",
       "      <td>0.0</td>\n",
       "      <td>0.0</td>\n",
       "      <td>0.0</td>\n",
       "      <td>0.0</td>\n",
       "      <td>0.0</td>\n",
       "      <td>0.0</td>\n",
       "      <td>0.0</td>\n",
       "      <td>...</td>\n",
       "      <td>0.0</td>\n",
       "      <td>0.0</td>\n",
       "      <td>0.0</td>\n",
       "      <td>0.0</td>\n",
       "      <td>0.0</td>\n",
       "      <td>0.0</td>\n",
       "      <td>0.0</td>\n",
       "      <td>0.0</td>\n",
       "      <td>0.0</td>\n",
       "      <td>0.0</td>\n",
       "    </tr>\n",
       "    <tr>\n",
       "      <th>1002062</th>\n",
       "      <td>0.0</td>\n",
       "      <td>0.0</td>\n",
       "      <td>0.0</td>\n",
       "      <td>0.0</td>\n",
       "      <td>0.0</td>\n",
       "      <td>0.0</td>\n",
       "      <td>0.0</td>\n",
       "      <td>0.0</td>\n",
       "      <td>0.0</td>\n",
       "      <td>0.0</td>\n",
       "      <td>...</td>\n",
       "      <td>0.0</td>\n",
       "      <td>0.0</td>\n",
       "      <td>0.0</td>\n",
       "      <td>0.0</td>\n",
       "      <td>0.0</td>\n",
       "      <td>0.0</td>\n",
       "      <td>0.0</td>\n",
       "      <td>0.0</td>\n",
       "      <td>0.0</td>\n",
       "      <td>0.0</td>\n",
       "    </tr>\n",
       "    <tr>\n",
       "      <th>...</th>\n",
       "      <td>...</td>\n",
       "      <td>...</td>\n",
       "      <td>...</td>\n",
       "      <td>...</td>\n",
       "      <td>...</td>\n",
       "      <td>...</td>\n",
       "      <td>...</td>\n",
       "      <td>...</td>\n",
       "      <td>...</td>\n",
       "      <td>...</td>\n",
       "      <td>...</td>\n",
       "      <td>...</td>\n",
       "      <td>...</td>\n",
       "      <td>...</td>\n",
       "      <td>...</td>\n",
       "      <td>...</td>\n",
       "      <td>...</td>\n",
       "      <td>...</td>\n",
       "      <td>...</td>\n",
       "      <td>...</td>\n",
       "      <td>...</td>\n",
       "    </tr>\n",
       "    <tr>\n",
       "      <th>100024162</th>\n",
       "      <td>0.0</td>\n",
       "      <td>0.0</td>\n",
       "      <td>0.0</td>\n",
       "      <td>0.0</td>\n",
       "      <td>0.0</td>\n",
       "      <td>0.0</td>\n",
       "      <td>0.0</td>\n",
       "      <td>0.0</td>\n",
       "      <td>0.0</td>\n",
       "      <td>0.0</td>\n",
       "      <td>...</td>\n",
       "      <td>0.0</td>\n",
       "      <td>0.0</td>\n",
       "      <td>0.0</td>\n",
       "      <td>0.0</td>\n",
       "      <td>0.0</td>\n",
       "      <td>0.0</td>\n",
       "      <td>0.0</td>\n",
       "      <td>0.0</td>\n",
       "      <td>0.0</td>\n",
       "      <td>0.0</td>\n",
       "    </tr>\n",
       "    <tr>\n",
       "      <th>100024234</th>\n",
       "      <td>0.0</td>\n",
       "      <td>0.0</td>\n",
       "      <td>0.0</td>\n",
       "      <td>0.0</td>\n",
       "      <td>0.0</td>\n",
       "      <td>0.0</td>\n",
       "      <td>0.0</td>\n",
       "      <td>0.0</td>\n",
       "      <td>0.0</td>\n",
       "      <td>0.0</td>\n",
       "      <td>...</td>\n",
       "      <td>0.0</td>\n",
       "      <td>0.0</td>\n",
       "      <td>0.0</td>\n",
       "      <td>0.0</td>\n",
       "      <td>0.0</td>\n",
       "      <td>0.0</td>\n",
       "      <td>0.0</td>\n",
       "      <td>0.0</td>\n",
       "      <td>0.0</td>\n",
       "      <td>0.0</td>\n",
       "    </tr>\n",
       "    <tr>\n",
       "      <th>100024380</th>\n",
       "      <td>0.0</td>\n",
       "      <td>0.0</td>\n",
       "      <td>0.0</td>\n",
       "      <td>0.0</td>\n",
       "      <td>0.0</td>\n",
       "      <td>0.0</td>\n",
       "      <td>0.0</td>\n",
       "      <td>0.0</td>\n",
       "      <td>0.0</td>\n",
       "      <td>0.0</td>\n",
       "      <td>...</td>\n",
       "      <td>0.0</td>\n",
       "      <td>0.0</td>\n",
       "      <td>0.0</td>\n",
       "      <td>0.0</td>\n",
       "      <td>0.0</td>\n",
       "      <td>0.0</td>\n",
       "      <td>0.0</td>\n",
       "      <td>0.0</td>\n",
       "      <td>0.0</td>\n",
       "      <td>0.0</td>\n",
       "    </tr>\n",
       "    <tr>\n",
       "      <th>100024448</th>\n",
       "      <td>0.0</td>\n",
       "      <td>0.0</td>\n",
       "      <td>0.0</td>\n",
       "      <td>0.0</td>\n",
       "      <td>0.0</td>\n",
       "      <td>0.0</td>\n",
       "      <td>0.0</td>\n",
       "      <td>0.0</td>\n",
       "      <td>0.0</td>\n",
       "      <td>0.0</td>\n",
       "      <td>...</td>\n",
       "      <td>0.0</td>\n",
       "      <td>0.0</td>\n",
       "      <td>0.0</td>\n",
       "      <td>0.0</td>\n",
       "      <td>0.0</td>\n",
       "      <td>0.0</td>\n",
       "      <td>0.0</td>\n",
       "      <td>0.0</td>\n",
       "      <td>0.0</td>\n",
       "      <td>0.0</td>\n",
       "    </tr>\n",
       "    <tr>\n",
       "      <th>100027045</th>\n",
       "      <td>0.0</td>\n",
       "      <td>0.0</td>\n",
       "      <td>0.0</td>\n",
       "      <td>0.0</td>\n",
       "      <td>0.0</td>\n",
       "      <td>0.0</td>\n",
       "      <td>0.0</td>\n",
       "      <td>0.0</td>\n",
       "      <td>0.0</td>\n",
       "      <td>0.0</td>\n",
       "      <td>...</td>\n",
       "      <td>0.0</td>\n",
       "      <td>0.0</td>\n",
       "      <td>0.0</td>\n",
       "      <td>0.0</td>\n",
       "      <td>0.0</td>\n",
       "      <td>0.0</td>\n",
       "      <td>0.0</td>\n",
       "      <td>0.0</td>\n",
       "      <td>0.0</td>\n",
       "      <td>0.0</td>\n",
       "    </tr>\n",
       "  </tbody>\n",
       "</table>\n",
       "<p>14596 rows × 26325 columns</p>\n",
       "</div>"
      ],
      "text/plain": [
       "user_id     304707635  419697235  448984650  452701324  464610644  472657655  \\\n",
       "product_id                                                                     \n",
       "1000978           0.0        0.0        0.0        0.0        0.0        0.0   \n",
       "1001588           0.0        0.0        0.0        0.0        0.0        0.0   \n",
       "1001618           0.0        0.0        0.0        0.0        0.0        0.0   \n",
       "1001619           0.0        0.0        0.0        0.0        0.0        0.0   \n",
       "1002062           0.0        0.0        0.0        0.0        0.0        0.0   \n",
       "...               ...        ...        ...        ...        ...        ...   \n",
       "100024162         0.0        0.0        0.0        0.0        0.0        0.0   \n",
       "100024234         0.0        0.0        0.0        0.0        0.0        0.0   \n",
       "100024380         0.0        0.0        0.0        0.0        0.0        0.0   \n",
       "100024448         0.0        0.0        0.0        0.0        0.0        0.0   \n",
       "100027045         0.0        0.0        0.0        0.0        0.0        0.0   \n",
       "\n",
       "user_id     478122650  478849730  479233261  485760463  ...  579897090  \\\n",
       "product_id                                              ...              \n",
       "1000978           0.0        0.0        0.0        0.0  ...        0.0   \n",
       "1001588           0.0        0.0        0.0        0.0  ...        0.0   \n",
       "1001618           0.0        0.0        0.0        0.0  ...        0.0   \n",
       "1001619           0.0        0.0        0.0        0.0  ...        0.0   \n",
       "1002062           0.0        0.0        0.0        0.0  ...        0.0   \n",
       "...               ...        ...        ...        ...  ...        ...   \n",
       "100024162         0.0        0.0        0.0        0.0  ...        0.0   \n",
       "100024234         0.0        0.0        0.0        0.0  ...        0.0   \n",
       "100024380         0.0        0.0        0.0        0.0  ...        0.0   \n",
       "100024448         0.0        0.0        0.0        0.0  ...        0.0   \n",
       "100027045         0.0        0.0        0.0        0.0  ...        0.0   \n",
       "\n",
       "user_id     579914596  579915659  579915961  579922035  579925652  579932020  \\\n",
       "product_id                                                                     \n",
       "1000978           0.0        0.0        0.0        0.0        0.0        0.0   \n",
       "1001588           0.0        0.0        0.0        0.0        0.0        0.0   \n",
       "1001618           0.0        0.0        0.0        0.0        0.0        0.0   \n",
       "1001619           0.0        0.0        0.0        0.0        0.0        0.0   \n",
       "1002062           0.0        0.0        0.0        0.0        0.0        0.0   \n",
       "...               ...        ...        ...        ...        ...        ...   \n",
       "100024162         0.0        0.0        0.0        0.0        0.0        0.0   \n",
       "100024234         0.0        0.0        0.0        0.0        0.0        0.0   \n",
       "100024380         0.0        0.0        0.0        0.0        0.0        0.0   \n",
       "100024448         0.0        0.0        0.0        0.0        0.0        0.0   \n",
       "100027045         0.0        0.0        0.0        0.0        0.0        0.0   \n",
       "\n",
       "user_id     579935169  579942312  579953265  \n",
       "product_id                                   \n",
       "1000978           0.0        0.0        0.0  \n",
       "1001588           0.0        0.0        0.0  \n",
       "1001618           0.0        0.0        0.0  \n",
       "1001619           0.0        0.0        0.0  \n",
       "1002062           0.0        0.0        0.0  \n",
       "...               ...        ...        ...  \n",
       "100024162         0.0        0.0        0.0  \n",
       "100024234         0.0        0.0        0.0  \n",
       "100024380         0.0        0.0        0.0  \n",
       "100024448         0.0        0.0        0.0  \n",
       "100027045         0.0        0.0        0.0  \n",
       "\n",
       "[14596 rows x 26325 columns]"
      ]
     },
     "execution_count": 92,
     "metadata": {},
     "output_type": "execute_result"
    }
   ],
   "source": [
    "R_df"
   ]
  },
  {
   "cell_type": "code",
   "execution_count": 93,
   "id": "4ce0237b",
   "metadata": {},
   "outputs": [],
   "source": [
    "# Convert DataFrame to numpy array\n",
    "R = R_df.values\n",
    "\n",
    "# Calculate mean ratings for each user\n",
    "user_ratings_mean = np.mean(R, axis=1)\n",
    "\n",
    "# Subtract mean ratings from each user's ratings\n",
    "R_demeaned = R - user_ratings_mean.reshape(-1, 1)"
   ]
  },
  {
   "cell_type": "code",
   "execution_count": 94,
   "id": "1a5fb9b8",
   "metadata": {},
   "outputs": [
    {
     "data": {
      "text/plain": [
       "(14596, 26325)"
      ]
     },
     "execution_count": 94,
     "metadata": {},
     "output_type": "execute_result"
    }
   ],
   "source": [
    "R_demeaned.shape"
   ]
  },
  {
   "cell_type": "markdown",
   "id": "8b80b00b",
   "metadata": {},
   "source": [
    "## Singular Value Decomposition\n",
    "\n",
    "Scipy and Numpy both have functions to do the singular value decomposition. I'm going to use the Scipy function `svds` because it let's me choose how many latent factors I want to use to approximate the original ratings matrix (instead of having to truncate it after)."
   ]
  },
  {
   "cell_type": "code",
   "execution_count": 95,
   "id": "59322b90",
   "metadata": {},
   "outputs": [],
   "source": [
    "from scipy.sparse.linalg import svds\n",
    "U, sigma, Vt = svds(R_demeaned, k = 120)"
   ]
  },
  {
   "cell_type": "code",
   "execution_count": 96,
   "id": "0ea39c15",
   "metadata": {},
   "outputs": [],
   "source": [
    "sigma = np.diag(sigma)"
   ]
  },
  {
   "cell_type": "code",
   "execution_count": null,
   "id": "62a33aaa",
   "metadata": {},
   "outputs": [],
   "source": [
    "all_user_predicted_ratings = np.dot(np.dot(U, sigma), Vt) + user_ratings_mean.reshape(-1, 1)"
   ]
  },
  {
   "cell_type": "code",
   "execution_count": null,
   "id": "91c12349",
   "metadata": {},
   "outputs": [],
   "source": [
    "# all_user_predicted_ratings"
   ]
  },
  {
   "cell_type": "code",
   "execution_count": null,
   "id": "586ea4ec",
   "metadata": {},
   "outputs": [],
   "source": [
    "preds_df = pd.DataFrame(all_user_predicted_ratings, columns = R_df.columns, index= R_df.index)\n",
    "preds_df.head()"
   ]
  },
  {
   "cell_type": "code",
   "execution_count": null,
   "id": "215c85a0",
   "metadata": {},
   "outputs": [],
   "source": [
    "preds_df.shape"
   ]
  },
  {
   "cell_type": "code",
   "execution_count": null,
   "id": "2b3beda6",
   "metadata": {},
   "outputs": [],
   "source": [
    "from sklearn.metrics.pairwise import cosine_similarity"
   ]
  },
  {
   "cell_type": "code",
   "execution_count": null,
   "id": "c5f9b723",
   "metadata": {},
   "outputs": [],
   "source": [
    "similarity_scores = cosine_similarity(preds_df)"
   ]
  },
  {
   "cell_type": "code",
   "execution_count": null,
   "id": "4950e225",
   "metadata": {},
   "outputs": [],
   "source": [
    "similarity_scores.shape"
   ]
  },
  {
   "cell_type": "code",
   "execution_count": null,
   "id": "512a6860",
   "metadata": {},
   "outputs": [],
   "source": [
    "# similarity_scores"
   ]
  },
  {
   "cell_type": "code",
   "execution_count": null,
   "id": "bdebc6e3",
   "metadata": {},
   "outputs": [],
   "source": [
    "def recommend(product_id):\n",
    "    # index fetch of product id in predicted matrix\n",
    "    index = np.where(preds_df.index==product_id)[0][0]\n",
    "    similar_items = sorted(list(enumerate(similarity_scores[index])),key=lambda x:x[1],reverse=True)[1:5]\n",
    "    \n",
    "    data = []\n",
    "    for i in similar_items:\n",
    "        item = []\n",
    "        temp_df = df[df['product_id'] == preds_df.index[i[0]]]\n",
    "        #item.extend(list(temp_df.drop_duplicates('product_id')['product_id'].values))\n",
    "        item.extend(list(temp_df.drop_duplicates('product_id')['category_code'].values))\n",
    "        item.extend(list(temp_df.drop_duplicates('product_id')['brand'].values))\n",
    "        data.append(item)\n",
    "    \n",
    "    return data"
   ]
  },
  {
   "cell_type": "code",
   "execution_count": null,
   "id": "8ba0b2fc",
   "metadata": {},
   "outputs": [],
   "source": [
    "product = 1002482\n",
    "price = 20\n",
    "recommend(product)"
   ]
  },
  {
   "cell_type": "code",
   "execution_count": null,
   "id": "0256aaa8",
   "metadata": {},
   "outputs": [],
   "source": [
    "df.loc[df['product_id']==product][['category_code','brand']].drop_duplicates()"
   ]
  },
  {
   "cell_type": "code",
   "execution_count": null,
   "id": "1aa9598b",
   "metadata": {},
   "outputs": [],
   "source": [
    "U"
   ]
  },
  {
   "cell_type": "code",
   "execution_count": null,
   "id": "786b5300",
   "metadata": {},
   "outputs": [],
   "source": [
    "#ratings_df.loc[ratings_df['user_purchase']==1]['category_code'].unique()"
   ]
  },
  {
   "cell_type": "code",
   "execution_count": null,
   "id": "a2706b26",
   "metadata": {},
   "outputs": [],
   "source": [
    "#ratings_df.loc[(ratings_df['user_purchase']==1) & (ratings_df['category_code']=='appliances.environment.water_heater')]['product_id'].unique()"
   ]
  },
  {
   "cell_type": "code",
   "execution_count": null,
   "id": "e04bb477",
   "metadata": {},
   "outputs": [],
   "source": [
    "def recommend_with_price(product_id,target_price):\n",
    "    index = np.where(preds_df.index == product_id)[0][0]\n",
    "    similar_items = sorted(list(enumerate(similarity_scores[index])), key=lambda x: x[1], reverse=True)[1:5]\n",
    "    \n",
    "    data = []\n",
    "    for i in similar_items:\n",
    "        item = []\n",
    "        temp_df = df[df['product_id'] == preds_df.index[i[0]]]\n",
    "        # Calculate price similarity (e.g., using absolute price difference)\n",
    "        price_similarity = 1 / (1 + abs(temp_df['price'].values - target_price))\n",
    "        # Combine item-item similarity and price similarity (e.g., weighted sum)\n",
    "        combined_similarity = (0.8 * i[1]) + (0.2 * price_similarity)\n",
    "        # Extend item with category code, brand, and combined similarity\n",
    "        item.extend(list(temp_df.drop_duplicates('product_id')['category_code'].values))\n",
    "        item.extend(list(temp_df.drop_duplicates('product_id')['brand'].values))\n",
    "        #item.append(combined_similarity)\n",
    "        data.append(item)\n",
    "    \n",
    "    return data"
   ]
  },
  {
   "cell_type": "code",
   "execution_count": null,
   "id": "8bd7eac5",
   "metadata": {},
   "outputs": [],
   "source": [
    "recommend_with_price(product,200)"
   ]
  },
  {
   "cell_type": "code",
   "execution_count": null,
   "id": "38a6b010",
   "metadata": {},
   "outputs": [],
   "source": []
  },
  {
   "cell_type": "code",
   "execution_count": null,
   "id": "96aa5ba9",
   "metadata": {},
   "outputs": [],
   "source": []
  }
 ],
 "metadata": {
  "kernelspec": {
   "display_name": "Python 3 (ipykernel)",
   "language": "python",
   "name": "python3"
  },
  "language_info": {
   "codemirror_mode": {
    "name": "ipython",
    "version": 3
   },
   "file_extension": ".py",
   "mimetype": "text/x-python",
   "name": "python",
   "nbconvert_exporter": "python",
   "pygments_lexer": "ipython3",
   "version": "3.10.4"
  }
 },
 "nbformat": 4,
 "nbformat_minor": 5
}
